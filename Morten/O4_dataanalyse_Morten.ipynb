{
 "cells": [
  {
   "cell_type": "markdown",
   "metadata": {},
   "source": [
    "#  SWMAL Opgave\n",
    "\n",
    "## Dataanalyse\n",
    "\n",
    "### Qa) Beskrivelse af datasæt til O4 projekt\n",
    "\n",
    "I kurset er slutprojektet et bærende element, som I forventes at arbejde på igennem hele kurset\n",
    "sideløbende med de forskellige undervisningsemner. \n",
    "\n",
    "I skal selv vælge et O4 projekt–det anbefales at I vælger en problemstilling, hvor der allerede er data til rådighed og en god beskrivelse af data, dataopsamlingsmetode og problemstilling.\n",
    "\n",
    "I denne opgave skal I:\n",
    "\n",
    "* a) Give en kort konceptmæssig projektbeskrivelse af Jeres ide til O4 projekt. \n",
    "\n",
    "* b) Beskrive jeres valgte datasæt med en kort forklaring af baggrund og hvor I har fået data fra.\n",
    "\n",
    "* c) Beskrive data–dvs. hvilke features, antal samples, target værdier, evt. fejl/usikkerheder, etc.\n",
    "\n",
    "* d) Forklare hvordan I ønsker at anvende datasættet – vil I fx. bruge det til at prædiktere noget\n",
    "bestemt, lave en regression eller klassifikation, el.lign. \n",
    "\n",
    "I vil nok komme til at anvende data også på andre måder i løbet af undervisningen – men det behøver I ikke nævne. Og det er også ok, hvis I ender med at bruge data på en anden måde end planlagt her.\n",
    "\n",
    "Omfang af beskrivelsen forventes at være 1-2 sider.\n",
    "\n",
    "\n",
    "### Qb) Dataanalyse af eget datasæt\n",
    "\n",
    "Lav data analyse på jeres egne data og projekt.\n",
    "\n",
    "Det indebærer de sædvanlige elementer såsom plotte histogrammer, middelværdi/median/spredning, analysere for outliers/korrupte data, forslag til skalering af data og lignende former for analyse af data.\n",
    "\n",
    "For nogle typer data (fx billed-data), hvor features ikke har en specifik betydning, er det mest\n",
    "histogrammer og lignende, som giver mening – det er helt o.k. \n",
    "\n",
    "\n",
    "#### NOTE vdr. billeddatasæts\n",
    "\n",
    "For billeddata fer hver pixel en feature, og alm. analyse beskrevet ovenfor giver ikke indsigt. Prøv i stedet for billeder at beskrive billedformater (JPEG, PNG osv. / RGB, HSV, gråtone, multispektral, etc.), størrelser af billeder, hvordan de er repræsenteret på disk (dirs osv.)\n",
    "\n",
    "Giv også eksempler på billeder og evt. labels i billedesæt.\n",
    "\n",
    "Histogrammer kan udføres på enkelte billeder, men kun i forbindelse med labelede områder---og bedst på billesæt med ens baggrunde.\n",
    "\n",
    "Benytter i lyddata eller video gælder de samme begrænsinger som får billeder her.\n",
    "\n",
    "### NOTE vdr. valg af datasæt til O4\n",
    "\n",
    "I har frie hænder til at vælge O4 projekt og tilhørende datasæt og valg af datasæt og ide til O4 her er ikke endelig. \n",
    "\n",
    "Dvs. at i løbende kan modificere projektbeskrivelse og, evt. om nødvendigt, vælge et andet datasæt senere, hvis jeres nuværende valg viser sig umuligt (men er en dyr proces). \n",
    "\n",
    "Scope af O4 projekt bør også begrænses, så det passer til kurset og til den '_time-box_'ede aflevering."
   ]
  },
  {
   "cell_type": "markdown",
   "metadata": {},
   "source": [
    "REVISIONS||\n",
    ":-|:-|\n",
    "2021-08-17| CEF, moved from Word to Notebook.\n",
    "2021-11-08| CEF, elaborated on image based data.\n",
    "2022-01-25| CEF, update to F22 SWMAL.\n",
    "2023-02-19| CEF, updated to F23 SWMAL."
   ]
  }
 ],
 "metadata": {
  "kernelspec": {
   "display_name": "Python 3 (ipykernel)",
   "language": "python",
   "name": "python3"
  },
  "language_info": {
   "codemirror_mode": {
    "name": "ipython",
    "version": 3
   },
   "file_extension": ".py",
   "mimetype": "text/x-python",
   "name": "python",
   "nbconvert_exporter": "python",
   "pygments_lexer": "ipython3",
   "version": "3.9.12"
  },
  "varInspector": {
   "cols": {
    "lenName": 16,
    "lenType": 16,
    "lenVar": 40
   },
   "kernels_config": {
    "python": {
     "delete_cmd_postfix": "",
     "delete_cmd_prefix": "del ",
     "library": "var_list.py",
     "varRefreshCmd": "print(var_dic_list())"
    },
    "r": {
     "delete_cmd_postfix": ") ",
     "delete_cmd_prefix": "rm(",
     "library": "var_list.r",
     "varRefreshCmd": "cat(var_dic_list()) "
    }
   },
   "types_to_exclude": [
    "module",
    "function",
    "builtin_function_or_method",
    "instance",
    "_Feature"
   ],
   "window_display": true
  }
 },
 "nbformat": 4,
 "nbformat_minor": 2
}
