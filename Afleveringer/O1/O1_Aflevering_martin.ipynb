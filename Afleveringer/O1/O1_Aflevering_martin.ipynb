{
 "cells": [
  {
   "cell_type": "markdown",
   "id": "32a787d0",
   "metadata": {},
   "source": [
    "# SWMAL-01 Machine Learning\n",
    "## O1 Assignment\n",
    "### SWMAL_Grp 13\n",
    "- Christoffer Mølck\n",
    "\t- Student nr.:\n",
    "- Martin Teit Bruun Andersen\n",
    "\t- Student nr.: 202109592\n",
    "- Morten Kierkegaard Erichsen\n",
    "\t- Student nr.:\n",
    "\n",
    "#### Assigment date: 14th of February 2024\n"
   ]
  },
  {
   "cell_type": "markdown",
   "id": "65b73b71",
   "metadata": {},
   "source": [
    "## Intro"
   ]
  },
  {
   "cell_type": "code",
   "execution_count": null,
   "id": "initial_id",
   "metadata": {
    "collapsed": true
   },
   "outputs": [],
   "source": [
    "#TODO: FUCKING REEEEE"
   ]
  },
  {
   "cell_type": "markdown",
   "id": "b7d5a61a",
   "metadata": {},
   "source": [
    "## Modules and classes"
   ]
  },
  {
   "cell_type": "markdown",
   "id": "bd7abc9f",
   "metadata": {},
   "source": [
    "### Qa Load and test the `libitmal` module"
   ]
  },
  {
   "cell_type": "code",
   "execution_count": null,
   "id": "63f7ad50",
   "metadata": {},
   "outputs": [],
   "source": []
  },
  {
   "cell_type": "markdown",
   "id": "ebf428b1",
   "metadata": {},
   "source": [
    "### Qb Creating a module and testing it"
   ]
  },
  {
   "cell_type": "code",
   "execution_count": null,
   "id": "c0ba0a2a",
   "metadata": {},
   "outputs": [],
   "source": []
  },
  {
   "cell_type": "markdown",
   "id": "b767ee84",
   "metadata": {},
   "source": [
    "### Qc Recompiling a module"
   ]
  },
  {
   "cell_type": "code",
   "execution_count": null,
   "id": "6a1d26a6",
   "metadata": {},
   "outputs": [],
   "source": []
  },
  {
   "cell_type": "markdown",
   "id": "5db79505",
   "metadata": {},
   "source": [
    "### Qe How private and public functions"
   ]
  },
  {
   "cell_type": "code",
   "execution_count": null,
   "id": "77baf985",
   "metadata": {},
   "outputs": [],
   "source": []
  },
  {
   "cell_type": "markdown",
   "id": "01811a9f",
   "metadata": {},
   "source": [
    "### Qf Creating a class constructor"
   ]
  },
  {
   "cell_type": "code",
   "execution_count": null,
   "id": "ade6fe25",
   "metadata": {},
   "outputs": [],
   "source": []
  },
  {
   "cell_type": "markdown",
   "id": "36a224a0",
   "metadata": {},
   "source": [
    "### Qg Creating a to.string function"
   ]
  },
  {
   "cell_type": "markdown",
   "id": "f05977d5",
   "metadata": {},
   "source": [
    "## Cost function"
   ]
  },
  {
   "cell_type": "code",
   "execution_count": null,
   "id": "a3848213",
   "metadata": {},
   "outputs": [],
   "source": []
  },
  {
   "cell_type": "markdown",
   "id": "056f732a",
   "metadata": {},
   "source": [
    "## Dummy Classifier"
   ]
  },
  {
   "cell_type": "code",
   "execution_count": null,
   "id": "161754da",
   "metadata": {},
   "outputs": [],
   "source": []
  },
  {
   "cell_type": "markdown",
   "id": "d813b8cf",
   "metadata": {},
   "source": [
    "## Performance Metrics"
   ]
  },
  {
   "cell_type": "code",
   "execution_count": null,
   "id": "bfcf2f3c",
   "metadata": {},
   "outputs": [],
   "source": []
  }
 ],
 "metadata": {
  "kernelspec": {
   "display_name": "Python 3",
   "language": "python",
   "name": "python3"
  },
  "language_info": {
   "codemirror_mode": {
    "name": "ipython",
    "version": 2
   },
   "file_extension": ".py",
   "mimetype": "text/x-python",
   "name": "python",
   "nbconvert_exporter": "python",
   "pygments_lexer": "ipython2",
   "version": "2.7.6"
  }
 },
 "nbformat": 4,
 "nbformat_minor": 5
}
