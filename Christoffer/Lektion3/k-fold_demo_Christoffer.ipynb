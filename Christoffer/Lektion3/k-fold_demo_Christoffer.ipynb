{
 "cells": [
  {
   "cell_type": "markdown",
   "metadata": {},
   "source": [
    "# ITMAL L03\n",
    "\n",
    "## K-fold CV demo\n",
    "\n",
    "Code original \"Measuring Accuracy Using Cross-Validation\", p.108, [HOML]. \n",
    "\n",
    "(CEF: code cleaned up, global calls put into functions, changed `StratifiedKFold` to just `SKFold`)\n"
   ]
  },
  {
   "cell_type": "code",
   "execution_count": 1,
   "metadata": {
    "ExecuteTime": {
     "end_time": "2024-02-13T12:41:01.535223900Z",
     "start_time": "2024-02-13T12:40:57.137936500Z"
    }
   },
   "outputs": [
    {
     "name": "stdout",
     "output_type": "stream",
     "text": [
      "Downloading data from https://storage.googleapis.com/tensorflow/tf-keras-datasets/mnist.npz\n",
      "11490434/11490434 [==============================] - 1s 0us/step\n",
      "OK\n"
     ]
    }
   ],
   "source": [
    "#print(\"MNIST data get and unpack (slow)..\")\n",
    "#from sklearn.datasets import fetch_openml\n",
    "#mnist = fetch_openml('mnist_784', version=1)\n",
    "#print(f\"  MNIST keys={mnist.keys()}\")\n",
    "import sys,os\n",
    "sys.path.append(R'../../UndervisningsGit/GITMAL')\n",
    "\n",
    "from libitmal import utils as itmalutils\n",
    "\n",
    "\n",
    "# from libitmal.dataloaders (faster)\n",
    "from libitmal.dataloaders import MNIST_GetDataSet\n",
    "X, y = MNIST_GetDataSet(load_mode=0)\n",
    "\n",
    "print(\"OK\")"
   ]
  },
  {
   "cell_type": "code",
   "execution_count": 2,
   "metadata": {
    "ExecuteTime": {
     "end_time": "2024-02-13T12:41:19.072223100Z",
     "start_time": "2024-02-13T12:41:19.012992100Z"
    }
   },
   "outputs": [
    {
     "name": "stdout",
     "output_type": "stream",
     "text": [
      "Design Matrix setup..\n",
      "  X: (70000, 784), y: (70000,)\n",
      "Train/test split..\n",
      "  Train: X_train: (60000, 784), y_train_5: (60000,)\n",
      "  Test : X_test:  (10000, 784), y_test_5:  (10000,)\n",
      "OK\n"
     ]
    }
   ],
   "source": [
    "import numpy as np\n",
    "\n",
    "print(\"Design Matrix setup..\")\n",
    "\n",
    "X = X.astype(np.float32)\n",
    "y = y.astype(np.uint8)\n",
    "\n",
    "print(f\"  X: {X.shape}, y: {y.shape}\")\n",
    "\n",
    "print(\"Train/test split..\")\n",
    "X_train, X_test, y_train, y_test = X[:60000], X[60000:], y[:60000], y[60000:]\n",
    "\n",
    "y_train_5 = (y_train == 5)\n",
    "y_test_5  = (y_test  == 5)\n",
    "\n",
    "print(f\"  Train: X_train: {X_train.shape}, y_train_5: {y_train_5.shape}\")\n",
    "print(f\"  Test : X_test:  {X_test.shape}, y_test_5:  {y_test_5.shape}\")\n",
    "\n",
    "print(\"OK\")"
   ]
  },
  {
   "cell_type": "code",
   "execution_count": 3,
   "metadata": {
    "ExecuteTime": {
     "end_time": "2024-02-13T12:41:33.782558200Z",
     "start_time": "2024-02-13T12:41:23.320925Z"
    }
   },
   "outputs": [
    {
     "name": "stdout",
     "output_type": "stream",
     "text": [
      "SGD model setup and train..\n",
      "\n",
      "OK\n"
     ]
    }
   ],
   "source": [
    "print(\"SGD model setup and train..\")\n",
    "\n",
    "from sklearn.linear_model import SGDClassifier\n",
    "\n",
    "sgd_clf = SGDClassifier(max_iter=1000, tol=1e-3, random_state=42)\n",
    "sgd_clf.fit(X_train, y_train_5)\n",
    "\n",
    "print(\"\\nOK\")"
   ]
  },
  {
   "cell_type": "code",
   "execution_count": 5,
   "metadata": {
    "ExecuteTime": {
     "end_time": "2024-02-13T12:41:40.798619500Z",
     "start_time": "2024-02-13T12:41:40.752384900Z"
    }
   },
   "outputs": [
    {
     "name": "stdout",
     "output_type": "stream",
     "text": [
      "Do some predictions..\n",
      "  index=42..\n",
      "    ground_truth=False\n",
      "    predicted   =[False]\n",
      "  index=45..\n",
      "    ground_truth=True\n",
      "    predicted   =[ True]\n",
      "OK\n"
     ]
    },
    {
     "data": {
      "text/plain": "<Figure size 640x480 with 1 Axes>",
      "image/png": "[encoded data removed]"
     },
     "metadata": {},
     "output_type": "display_data"
    }
   ],
   "source": [
    "%matplotlib inline\n",
    "\n",
    "import matplotlib as mpl\n",
    "import matplotlib.pyplot as plt\n",
    "\n",
    "def plot_digit(data):\n",
    "    # NOTE: or just use libitmal.dataloaders.MNIST_GetDataSet\n",
    "    image = data.reshape(28, 28)\n",
    "    plt.imshow(image, cmap = mpl.cm.binary,\n",
    "               interpolation=\"nearest\")\n",
    "    plt.axis(\"off\")\n",
    "\n",
    "def TestPredict(n):\n",
    "    some_digit = X_test[n]\n",
    "    ground_truth = y_test_5[n]\n",
    "    \n",
    "    plot_digit(some_digit)\n",
    "    y_pred=sgd_clf.predict([some_digit])\n",
    "    \n",
    "    print(f\"  index={n}..\")\n",
    "    print(f\"    ground_truth={ground_truth}\")\n",
    "    print(f\"    predicted   ={y_pred}\")\n",
    "    \n",
    "print(\"Do some predictions..\")\n",
    "\n",
    "TestPredict(42)\n",
    "TestPredict(45)\n",
    "\n",
    "print(\"OK\")"
   ]
  },
  {
   "cell_type": "code",
   "execution_count": 9,
   "metadata": {},
   "outputs": [
    {
     "name": "stdout",
     "output_type": "stream",
     "text": [
      "K-fold demo..\n",
      "MyKFoldSplit(clf, X, y, kfolds=3)..\n",
      "  type(X)           =<class 'numpy.ndarray'>,  X.shape           =(60000, 784)\n",
      "  type(y)           =<class 'numpy.ndarray'>,  y.shape           =(60000,)\n",
      "  type(train_index) =<class 'numpy.ndarray'>,  train_index.shape =(40000,)\n",
      "  type(val_index)   =<class 'numpy.ndarray'>,  val_index.shape   =(20000,)\n",
      "\n",
      "  FOLD  0: accuracy=0.97, precision=0.94, recall=0.70, F1=0.80\n",
      "  FOLD  1: accuracy=0.95, precision=0.67, recall=0.89, F1=0.76\n",
      "  FOLD  2: accuracy=0.97, precision=0.89, recall=0.73, F1=0.80\n",
      "OK\n"
     ]
    }
   ],
   "source": [
    "from sklearn.model_selection import KFold\n",
    "from sklearn.base import clone\n",
    "from sklearn.metrics import accuracy_score, precision_score, recall_score, f1_score\n",
    "\n",
    "def CalcScores(i, y_true, y_pred, doprint=True):\n",
    "    assert y_true.shape == y_pred.shape, f\"mismatch in shapes, y_true.shape={y_true.shape}, y_pred.shape={y_pred.shape}\"\n",
    "    a = accuracy_score (y_true, y_pred)\n",
    "    p = precision_score(y_true, y_pred)\n",
    "    r = recall_score   (y_true, y_pred)\n",
    "    F1= f1_score       (y_true, y_pred)\n",
    "\n",
    "    if doprint:\n",
    "        prefix = f\"FOLD {i:2d}: \" if i>=0 else \"\" \n",
    "        print(f\"  {prefix}accuracy={a:.2f}, precision={p:.2f}, recall={r:.2f}, F1={F1:.2f}\")\n",
    "\n",
    "    return a, p, r, F1\n",
    "\n",
    "def MyKFoldSplit(clf, X, y, kfolds=3, debug=True):\n",
    "    \n",
    "    def PrintVarInfo(varname, var):\n",
    "        assert isinstance(varname, str)\n",
    "        assert isinstance(var, np.ndarray)\n",
    "        if debug:\n",
    "            msg = f\"type({varname})\"\n",
    "            t   = f\"{type(var)},\"\n",
    "            s   = f\"{varname}.shape\"\n",
    "            print(f\"  {msg:18s}={t:24s}  {s:18s}={var.shape}\")\n",
    "\n",
    "    scores = []\n",
    "    i=0\n",
    "    \n",
    "    if debug:\n",
    "        print(f\"MyKFoldSplit(clf, X, y, kfolds={kfolds})..\")\n",
    "        PrintVarInfo(\"X\", X)\n",
    "        PrintVarInfo(\"y\", y)\n",
    "    \n",
    "    # skfolds becomes a class sklearn.model_selection._split.KFold..\n",
    "    skfolds = KFold(n_splits=kfolds, random_state=42, shuffle=True)\n",
    "    \n",
    "    for train_index, val_index in skfolds.split(X, y):\n",
    "        if i==0:\n",
    "            PrintVarInfo(\"train_index\", train_index)\n",
    "            PrintVarInfo(\"val_index\",   val_index)\n",
    "            print()\n",
    "        \n",
    "        clone_clf = clone(clf)\n",
    "        \n",
    "        X_train_folds = X[train_index]\n",
    "        y_train_folds = y[train_index]\n",
    "        X_val_fold    = X[val_index]\n",
    "        y_val_fold    = y[val_index]\n",
    "\n",
    "        clone_clf.fit(X_train_folds, y_train_folds)\n",
    "\n",
    "        y_pred = clone_clf.predict(X_val_fold)\n",
    "\n",
    "        a, p, r, F1 = CalcScores(i, y_val_fold, y_pred)\n",
    "        scores.append((a, p, r, F1))\n",
    "        \n",
    "        i += 1\n",
    "\n",
    "        #n_correct = sum(y_pred == y_val_fold)\n",
    "        #print(n_correct / len(y_pred)) \n",
    "        # My    : print  0.95035 0.96035 and 0.9604\n",
    "        # Gereon: prints 0.9502, 0.96565 and 0.96495\n",
    "        \n",
    "    return scores\n",
    "        \n",
    "print(\"K-fold demo..\")\n",
    "\n",
    "scores = MyKFoldSplit(sgd_clf, X_train, y_train_5, 3)\n",
    "\n",
    "print(\"OK\")"
   ]
  },
  {
   "cell_type": "code",
   "execution_count": 10,
   "metadata": {},
   "outputs": [
    {
     "name": "stdout",
     "output_type": "stream",
     "text": [
      "K-fold mean scores..\n",
      "  accuracy : 0.96 +/- 0.009\n",
      "  precision: 0.83 +/- 0.117\n",
      "  recall   : 0.77 +/- 0.083\n",
      "  F1       : 0.79 +/- 0.018\n",
      "OK\n"
     ]
    }
   ],
   "source": [
    "print(\"K-fold mean scores..\")\n",
    "\n",
    "scorenames = [\"accuracy \", \"precision\", \"recall   \", \"F1       \"]\n",
    "dat = np.array(scores)\n",
    "\n",
    "for i in range(4):\n",
    "    d = dat[:,i]\n",
    "    mean = d.mean()\n",
    "    std  = d.std()\n",
    "    print(f\"  {scorenames[i]}: {mean:.2f} +/- {std:.3f}\")\n",
    "\n",
    "print(\"OK\")"
   ]
  },
  {
   "cell_type": "code",
   "execution_count": 11,
   "metadata": {},
   "outputs": [
    {
     "name": "stdout",
     "output_type": "stream",
     "text": [
      "Final test scores..\n",
      "  train yet a model with all train data..\n",
      "  predict on test data..\n",
      "  accuracy=0.95, precision=0.66, recall=0.88, F1=0.76\n",
      "OK\n"
     ]
    }
   ],
   "source": [
    "print(\"Final test scores..\")\n",
    "\n",
    "print(\"  train yet a model with all train data..\")\n",
    "sgd_clf.fit(X_train, y_train_5)        \n",
    "\n",
    "print(\"  predict on test data..\")\n",
    "y_test_5_pred = sgd_clf.predict(X_test)\n",
    "CalcScores(-1, y_test_5, y_test_5_pred)\n",
    "\n",
    "print(\"OK\")"
   ]
  },
  {
   "cell_type": "markdown",
   "metadata": {},
   "source": [
    "REVISIONS||\n",
    ":- | :- |\n",
    "2021-??-??| CEF, initial.\n",
    "2023-02-13| CEF, minor updates and comments, updated section and page numbers for HOML 3rd ed.\n",
    "2024-02-13| CEF, minor code changes."
   ]
  }
 ],
 "metadata": {
  "kernelspec": {
   "display_name": "Python 3 (ipykernel)",
   "language": "python",
   "name": "python3"
  },
  "language_info": {
   "codemirror_mode": {
    "name": "ipython",
    "version": 3
   },
   "file_extension": ".py",
   "mimetype": "text/x-python",
   "name": "python",
   "nbconvert_exporter": "python",
   "pygments_lexer": "ipython3",
   "version": "3.9.12"
  },
  "varInspector": {
   "cols": {
    "lenName": 16,
    "lenType": 16,
    "lenVar": 40
   },
   "kernels_config": {
    "python": {
     "delete_cmd_postfix": "",
     "delete_cmd_prefix": "del ",
     "library": "var_list.py",
     "varRefreshCmd": "print(var_dic_list())"
    },
    "r": {
     "delete_cmd_postfix": ") ",
     "delete_cmd_prefix": "rm(",
     "library": "var_list.r",
     "varRefreshCmd": "cat(var_dic_list()) "
    }
   },
   "types_to_exclude": [
    "module",
    "function",
    "builtin_function_or_method",
    "instance",
    "_Feature"
   ],
   "window_display": true
  }
 },
 "nbformat": 4,
 "nbformat_minor": 4
}
