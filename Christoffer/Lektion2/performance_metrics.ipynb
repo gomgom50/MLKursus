{
 "cells": [
  {
   "cell_type": "markdown",
   "metadata": {
    "pycharm": {
     "name": "#%% md\n"
    }
   },
   "source": [
    "# SWMAL Exercise\n",
    "\n",
    "\n",
    "## Performance Metrics\n",
    "\n",
    "There are a number of frequently uses metrics in supervised binary classification, namely accuracy, precision, recall and the $F_1$ score. All are called performance _metrics_, though they are not true norms, like ${\\cal L}_2$ or ${\\cal L}_1$ we saw last time.\n",
    "\n",
    "Maybe performance _score_ would be a better name than performance metric, at least for the accuracy, precision, recall we will be looking at---emphasising the conceptual distinction between the  _score-function_ and _cost(/loss/error/objective)-function_ (the later is typically a true distance/norm function).  \n",
    "\n",
    "You can find a lot of details on say precision and recall in Wikipedia\n",
    "\n",
    ">  https://en.wikipedia.org/wiki/Precision_and_recall\n",
    "\n",
    "\n",
    "### Nomenclature\n",
    "\n",
    "| NAME | SYMBOL | ALIAS |\n",
    "| :---: | :---: | :---: |\n",
    "|true positives | $TP$ | |\n",
    "|true negatives | $TN$ | |\n",
    "|false positives| $FP$ | type I error| \n",
    "|false negatives| $FN$ | type II error |\n",
    "\n",
    "and $N = N_P + N_N$ being the total number of samples and the number of positive and negative samples\n",
    "respectively.\n",
    "\n",
    "### Precision\n",
    "\n",
    "$$\n",
    "    \\def\\by{\\mathbf{y}}\n",
    "    \\def\\bM{\\mathbf{M}}\n",
    "    \\def\\ar#1#2{\\begin{array}{#1}#2\\end{array}}\n",
    "    \\def\\st#1{_{\\scriptsize\\textrm{#1}}}\n",
    "    \\def\\myfrac#1#2{\\frac{#1\\rule{0pt}{8pt}}{#2\\rule{0pt}{8pt}}} \n",
    "\\ar{rl}{\n",
    "  p &= \\myfrac{TP}{TP + FP}\n",
    "}\n",
    "$$\n",
    "\n",
    "### Recall or Sensitivity\n",
    "\n",
    "$$\n",
    "  \\ar{rl}{\n",
    "    r &= \\myfrac{TP}{TP + FN}\\\\\n",
    "      &= \\myfrac{TP}{N_P}\n",
    "  }\n",
    "$$\n",
    "\n",
    "### Accuracy\n",
    "\n",
    "$$\n",
    "  \\ar{rl}{\n",
    "      a &= \\myfrac{TP + TN}{TP + TN + FP + FN}\\\\\n",
    "        &= \\myfrac{TP + TN}{N}\\\\\n",
    "        &= \\myfrac{TP + TN}{N_P~~ + N_N} \n",
    "  }\\\n",
    "$$\n",
    "\n",
    "#### Accuracy Paradox\n",
    "\n",
    "A static constant model, say $p\\st{cancer}=0$ may have higher accuracy than a real model with predictive power. This is odd!\n",
    "\n",
    "Asymmetric weights could also be associated with the false positive and false negative predictions, yielding either FP of FN much more expensive than the other. Say, it is more expensive not to treat a person with cancer, than treating a person without cancer. \n",
    "\n",
    "### F-score\n",
    "\n",
    "General $\\beta$-harmonic mean of the precision and recall \n",
    "$$\n",
    "    F_\\beta = (1+\\beta^2) \\myfrac{pr}{\\beta^2 p+r}\\\\\n",
    "$$ \n",
    "that for say $\\beta=2$ or $\\beta=0.5$ shifts or skews the emphasis on the two variables in the equation. Normally only the $\\beta=1$ harmonic mean is used\n",
    "\n",
    "$$\n",
    "  \\ar{rl}{\n",
    "    F_1 &= \\myfrac{2pr}{p+r}\\\\\n",
    "     &= \\myfrac{2}{1/p + 1/r}\n",
    "  }\n",
    "$$\n",
    "with $F$ typically being synonymous with $F_1$. \n",
    "\n",
    "If needed, find more info on Wikipedia\n",
    "\n",
    "> https://en.wikipedia.org/wiki/F1_score\n",
    "\n",
    "\n",
    "## Confusion Matrix\n",
    "\n",
    "For statistical classification, the confusion matrix or error matrix (or\n",
    "matching matrix in unsupervised learning) is for a two-class problem given by\n",
    "the $2\\times2$ matrix with dimensions 'actual' and 'predicted'\n",
    "\n",
    "$$   \n",
    "\\bM\\st{confusion}~~~ = \n",
    "\\ar{l|ll}{\n",
    "                             & \\textrm{actual true} & \\textrm{actual false} \\\\ \\hline\n",
    "    \\textrm{predicted true}  & TP & FP \\\\     \n",
    "    \\textrm{predicted false} & FN & TN \n",
    "}\n",
    "$$\n",
    "\n",
    "The diagonal, in the square matrix, represent predicted values being the same\n",
    "as the actual values, off-diagonal elements represent erroneous prediction.\n",
    "\n",
    "Also notice, that the layout of this matrix is different of what is given in [HOML], \"Confusion Matrix\", p.110/fig 3-3. This is just a minor issue, since we can always flip/rotate/transpose the matrix (say by flipping the $\\by\\st{true}$ and $\\by\\st{pred}$ arguments). \n",
    "\n",
    "For N-class classification the matrix gives a matrix with $N$ actual\n",
    "classes and $N$ predicted classes\n",
    "\n",
    "$$\n",
    "\\bM\\st{confusion}~~~ =\n",
    "  \\left[\n",
    "  \\ar{llll}{\n",
    "       c_{11} & c_{12} & \\cdots & c_{1n} \\\\ \n",
    "       c_{21} & c_{22} & \\cdots & c_{2n} \\\\\n",
    "       \\vdots & \\vdots & \\ddots & \\vdots \\\\\n",
    "       c_{n1} & c_{n2} & \\cdots & c_{nn} \\\\ \n",
    " }\n",
    " \\right]\n",
    "$$\n",
    "with say element $c_{21}$ being the number of actual classes '1' being predicted (erroneously) as class '2'.\n",
    "\n",
    "### Nomenclature for the Confusion Matrix\n",
    "\n",
    "The naming of the elements in the confusion matrix can be rather exotic, like _false omission rate_ (see the figure below), but we won't get to such detail here...let us stick with TP, TN, FP, FN and $F_1$!\n",
    "\n",
    "<img src=\"https://itundervisning.ase.au.dk/SWMAL/L02/Figs/performance_metrics.jpg\" alt=\"WARNING: could not get image from server\" style=\"width:900px\">\n",
    "\n",
    "If you need more info on the confusion matrix:\n",
    "\n",
    ">  https://en.wikipedia.org/wiki/Confusion_matrix\n",
    "\n",
    "#### Qa Implement the Accuracy function and test it on the MNIST data.\n",
    "\n",
    "We now follow the convention in Scikit-learn, that a score funtion takes the arguments `y_true` and then `y_pred`\n",
    "\n",
    "```\n",
    "    sklearn.metrics.accuracy_score(y_true, y_pred, ..)\n",
    "```\n",
    "\n",
    "Implement a general accuracy function `MyAccuracy(y_true, y_pred)`. Again, implement the function you self from scratch, i.e. do not use any helper functions from Scikit-learn (implementing via `sklearn.metrics.confusion_matrix` is also not allowed, othewise you will then learn nothing!)\n",
    "\n",
    "Reuse your MNIST data loader and test the `MyAccuracy` function  both on your dummy classifier and on the Stochastic Gradient Descent classifier (with setup parameters as in [HOML]).\n",
    "\n",
    "Remember to use the '5/not-5' ground-truth data, ala\n",
    "\n",
    "```python\n",
    "    y_train_5 = (y_train == '5')    \n",
    "    y_test_5  = (y_test == '5')\n",
    "```\n",
    "\n",
    "not the full 10 class MNIST output categories, since we are dealing with metrics handling only pure binary classifiers (well, there is a way to deal with this using micro/macro averaging of multiclass classifiers, you meet these in the gridsearch exercise later).\n",
    "\n",
    "Compare your accuracy score with the acutal value from `sklearn.metrics.accuracy_score()`.\n",
    "\n",
    "(Implementation note: what do you do, if the denominator is zero?)"
   ]
  },
  {
   "metadata": {
    "ExecuteTime": {
     "end_time": "2024-02-12T18:11:36.357613Z",
     "start_time": "2024-02-12T18:11:29.881557Z"
    }
   },
   "cell_type": "code",
   "source": [
    "from sklearn.datasets import fetch_openml\n",
    "from sklearn.linear_model import SGDClassifier\n",
    "from sklearn.base import BaseEstimator\n",
    "import numpy as np\n",
    "\n",
    "# MNIST getter\n",
    "\n",
    "def MNIST_GetDataSet():\n",
    "    Data, Target = fetch_openml(name=\"mnist_784\",return_X_y=True, as_frame=False)\n",
    "    Data = Data / 255 #Converts to binary\n",
    "    return Data,Target\n",
    "\n",
    "X,y = MNIST_GetDataSet()\n",
    "X_train, X_Test, y_train, y_test = X[:60000], X[60000:], y[:60000], y[60000:]\n",
    "\n",
    "y_train_5 = (y_train== '5')\n",
    "y_test_5 = (y_test== '5')\n",
    "\n",
    "# Stochastic Gradient Descent classifier\n",
    "\n",
    "sgd_clf = SGDClassifier(random_state=42)\n",
    "sgd_clf.fit(X_train,y_train_5)\n",
    "clf_Predict = sgd_clf.predict(X_Test)\n",
    "\n",
    "\n",
    "# Dummy classifier\n",
    "\n",
    "class DummyClassifier(BaseEstimator):\n",
    "    def fit(self, X, y=None):\n",
    "        pass\n",
    "    def predict(self,X):\n",
    "        return np.zeros((len(X)), dtype=bool)\n",
    "\n",
    "# Instantiates the DummyClassifier\n",
    "Dummy_clf = DummyClassifier()\n",
    "Dummy_pred = Dummy_clf.predict(X_Test)\n",
    "\n",
    "\n",
    "def MyAccuracy(y_true, y_pred): \n",
    "    if len(y_true) == 0: #Safeguard against division by zero\n",
    "        # return an error message if the length of y_true is 0\n",
    "        print(\"Error: y_true is empty\")\n",
    "        return 0\n",
    "    TrueValues = 0\n",
    "    for y, x, in zip(y_true, y_pred): #zip is just syntactic sugar for pairing the two arrays together\n",
    "        if y == x:\n",
    "            TrueValues += 1\n",
    "            \n",
    "    return TrueValues / len(y_true) #This is the accuracy formula as TrueValues contain both TP and TN \n",
    "        \n",
    "\n",
    "#Run the accuracy function\n",
    "\n",
    "\n",
    "#Test the accuracy function\n",
    "from sklearn.metrics import accuracy_score\n",
    "\n",
    "\n",
    "#Compare the two accuracy functions\n",
    "\n",
    "print(\"MyAccuracy: \", MyAccuracy(y_test_5, clf_Predict))\n",
    "print(\"Sklearn accuracy: \", accuracy_score(y_test_5, clf_Predict))\n",
    "\n",
    "print(\"MyAccuracy: \", MyAccuracy(y_test_5, Dummy_pred))\n",
    "print(\"Sklearn accuracy: \", accuracy_score(y_test_5, Dummy_pred))\n",
    "\n",
    "# As we can see, the accuracy is the same for both my custom function and the sklearn function. Meaning that my custom function works as intended.\n"
   ],
   "outputs": [
    {
     "name": "stdout",
     "output_type": "stream",
     "text": [
      "MyAccuracy:  0.9769\n",
      "Sklearn accuracy:  0.9769\n",
      "MyAccuracy:  0.9108\n",
      "Sklearn accuracy:  0.9108\n"
     ]
    }
   ],
   "execution_count": 12
  },
  {
   "cell_type": "markdown",
   "metadata": {
    "pycharm": {
     "name": "#%% md\n"
    }
   },
   "source": [
    "#### Qb Implement Precision, Recall and $F_1$-score and test it on the MNIST data for both the SGD and Dummy classifier models\n",
    "\n",
    "Now, implement the `MyPrecision`, `MyRecall` and `MyF1Score` functions, again taking MNIST as input, using the SGD and the Dummy classifiers and make some test vectors to compare to the functions found in Scikit-learn...\n",
    "\n",
    "(Implementation note: as before, what do you do, if the denominator is zero?)"
   ]
  },
  {
   "cell_type": "code",
   "metadata": {
    "pycharm": {
     "name": "#%%\n"
    },
    "ExecuteTime": {
     "end_time": "2024-02-12T18:11:53.305518Z",
     "start_time": "2024-02-12T18:11:52.931802Z"
    }
   },
   "source": [
    "\n",
    "from sklearn.metrics import precision_score, recall_score, f1_score\n",
    "\n",
    "\n",
    "def MyPrecision(y_true, y_pred):\n",
    "    TP = sum(1 for yt, yp in zip(y_true, y_pred) if yt == yp == True) #let's use list comprehension to make the code more readable\n",
    "    FP = sum(1 for yt, yp in zip(y_true, y_pred) if yt == False and yp == True)\n",
    "    \n",
    "    if TP + FP == 0:\n",
    "        return 0 #Safeguard against division by zero\n",
    "    \n",
    "    return TP / (TP + FP) #Precision formula\n",
    "    \n",
    "    \n",
    "\n",
    "def MyRecall(y_true, y_pred):\n",
    "    \n",
    "    TP = sum(1 for yt, yp in zip(y_true, y_pred) if yt == yp == True)\n",
    "    FN = sum(1 for yt, yp in zip(y_true, y_pred) if yt == True and yp == False)\n",
    "    \n",
    "    if TP + FN == 0:\n",
    "        return 0 #Safeguard against division by zero\n",
    "    \n",
    "    return TP / (TP + FN) #Recall formula\n",
    "    \n",
    "\n",
    "def MyF1Score(y_true, y_pred):\n",
    "    \n",
    "    precision = MyPrecision(y_true, y_pred)\n",
    "    recall = MyRecall(y_true, y_pred)\n",
    "    \n",
    "    if precision + recall == 0:\n",
    "        return 0 #Safeguard against division by zero\n",
    "    \n",
    "    return 2/((1/recall) + (1/precision))#F1 score formula\n",
    "\n",
    "\n",
    "#Test the functions with the SGD classifier\n",
    "\n",
    "print(\"MyPrecision: \", MyPrecision(y_test_5, clf_Predict))\n",
    "print(\"Sklearn Precision: \", precision_score(y_test_5, clf_Predict))\n",
    "\n",
    "print(\"MyRecall: \", MyRecall(y_test_5, clf_Predict))\n",
    "print(\"Sklearn Recall: \", recall_score(y_test_5, clf_Predict))\n",
    "\n",
    "print(\"MyF1Score: \", MyF1Score(y_test_5, clf_Predict))\n",
    "print(\"Sklearn F1Score: \", f1_score(y_test_5, clf_Predict))\n",
    "\n",
    "#Test the functions with the Dummy classifier\n",
    "print(\"\\n\\n\")\n",
    "\n",
    "print(\"MyPrecision: \", MyPrecision(y_test_5, Dummy_pred)) \n",
    "print(\"Sklearn Precision: \", precision_score(y_test_5, Dummy_pred))\n",
    "\n",
    "print(\"MyRecall: \", MyRecall(y_test_5, Dummy_pred))\n",
    "print(\"Sklearn Recall: \", recall_score(y_test_5, Dummy_pred))\n",
    "\n",
    "print(\"MyF1Score: \", MyF1Score(y_test_5, Dummy_pred))\n",
    "print(\"Sklearn F1Score: \", f1_score(y_test_5, Dummy_pred))\n",
    "\n",
    "# As we can see, the precision, recall and F1 score is the same for both my custom function and the sklearn function. Meaning that my custom function works as intended. Precision, recall and F1 score are all 0 for the dummy classifier, as it always predicts 0. \n",
    "\n"
   ],
   "outputs": [
    {
     "name": "stdout",
     "output_type": "stream",
     "text": [
      "MyPrecision:  0.9460188933873145\n",
      "Sklearn Precision:  0.9460188933873145\n",
      "MyRecall:  0.7858744394618834\n",
      "Sklearn Recall:  0.7858744394618834\n",
      "MyF1Score:  0.8585425597060624\n",
      "Sklearn F1Score:  0.8585425597060624\n",
      "\n",
      "\n",
      "\n",
      "MyPrecision:  0\n",
      "Sklearn Precision:  0.0\n",
      "MyRecall:  0.0\n",
      "Sklearn Recall:  0.0\n",
      "MyF1Score:  0\n",
      "Sklearn F1Score:  0.0\n"
     ]
    },
    {
     "name": "stderr",
     "output_type": "stream",
     "text": [
      "E:\\DataSpellProjects\\SKFSkraper\\venv\\Lib\\site-packages\\sklearn\\metrics\\_classification.py:1497: UndefinedMetricWarning: Precision is ill-defined and being set to 0.0 due to no predicted samples. Use `zero_division` parameter to control this behavior.\n",
      "  _warn_prf(average, modifier, f\"{metric.capitalize()} is\", len(result))\n"
     ]
    }
   ],
   "execution_count": 13
  },
  {
   "cell_type": "markdown",
   "metadata": {
    "pycharm": {
     "name": "#%% md\n"
    }
   },
   "source": [
    "#### Qc The Confusion Matrix\n",
    "\n",
    "Revisit your solution to Qb in the `dummy_classifier.ipynb`. Generate the confusion matrix for both the Dummy and the SGD classifier using the `scklearn.metrics.confusion_matrix` function. \n",
    "\n",
    "I got the two confusion matrices\n",
    "\n",
    "```\n",
    "M_dummy=[[18166     0]\n",
    "        [ 1834     0]]\n",
    "   \n",
    "M_SDG=[[17618   548]\n",
    "      [  267  1567]]\n",
    "\n",
    "```\n",
    "your data may look similar (but not 100% equal).\n",
    "\n",
    "How are the Scikit-learn confusion matrix organized, where are the TP, FP, FN and TN located in the matrix indices, and what happens if you mess up the parameters calling\n",
    "\n",
    "```python\n",
    "confusion_matrix(y_test_5_pred, y_test5)\n",
    "```\n",
    "\n",
    "instead of \n",
    "```python\n",
    "confusion_matrix(y_test_5, y_test_5_pred)\n",
    "```"
   ]
  },
  {
   "cell_type": "code",
   "metadata": {
    "pycharm": {
     "name": "#%%\n"
    },
    "ExecuteTime": {
     "end_time": "2024-02-12T18:17:10.508673Z",
     "start_time": "2024-02-12T18:17:10.501082Z"
    }
   },
   "source": [
    "from sklearn.metrics import confusion_matrix\n",
    "\n",
    "M_dummy = confusion_matrix(y_test_5, Dummy_pred)\n",
    "M_SGD = confusion_matrix(y_test_5, clf_Predict)\n",
    "\n",
    "print(\"M_dummy: \", M_dummy)\n",
    "print(\"M_SGD: \", M_SGD)\n",
    "\n",
    "#The confusion matrix is organized as follows:\n",
    "# [[TN FP]\n",
    "#  [FN TP]]\n",
    "\n",
    "#If you mess up the parameters, you will get a transposed version of the confusion matrix. This is because the first parameter is the predicted values and the second parameter is the actual values. If you switch the two parameters, you will get the predicted values as the rows and the actual values as the columns.\n",
    "\n"
   ],
   "outputs": [
    {
     "name": "stdout",
     "output_type": "stream",
     "text": [
      "M_dummy:  [[9108    0]\n",
      " [ 892    0]]\n",
      "M_SGD:  [[9068   40]\n",
      " [ 191  701]]\n"
     ]
    }
   ],
   "execution_count": 15
  },
  {
   "cell_type": "markdown",
   "metadata": {
    "pycharm": {
     "name": "#%% md\n"
    }
   },
   "source": [
    "#### Qd A Confusion Matrix Heat-map\n",
    "\n",
    "Generate a _heat map_ image for the confusion matrices, `M_dummy` and `M_SGD` respectively, getting inspiration from [HOML] \"Error Analysis\", pp.122-125.\n",
    "\n",
    "This heat map could be an important guide for you when analysing multiclass data in the future."
   ]
  },
  {
   "cell_type": "code",
   "metadata": {
    "pycharm": {
     "name": "#%%\n"
    },
    "ExecuteTime": {
     "end_time": "2024-02-12T18:48:59.394009Z",
     "start_time": "2024-02-12T18:48:59.153711Z"
    }
   },
   "source": [
    "import matplotlib.pyplot as  plt\n",
    "# use the matplotlib matshow function to display a heat map of the confusion matrix\n",
    "\n",
    "plt.matshow(M_dummy, cmap=plt.cm.gray_r)  # gray_r is a gray colormap, r stands for reverse, meaning that 0 is white and 1 is black\n",
    "plt.colorbar()\n",
    "plt.show()  \n",
    "\n",
    "plt.matshow(M_SGD, cmap=plt.cm.gray_r)\n",
    "plt.colorbar()\n",
    "plt.show()\n",
    "\n",
    "# as we can see, we more values that are TN then TP as expected since we are only predicting 5s"
   ],
   "outputs": [
    {
     "data": {
      "text/plain": [
       "<Figure size 480x480 with 2 Axes>"
      ],
      "image/png": "[encoded data removed]"
     },
     "metadata": {},
     "output_type": "display_data"
    },
    {
     "data": {
      "text/plain": [
       "<Figure size 480x480 with 2 Axes>"
      ],
      "image/png": "[encoded data removed]"
     },
     "metadata": {},
     "output_type": "display_data"
    }
   ],
   "execution_count": 24
  },
  {
   "cell_type": "markdown",
   "metadata": {
    "pycharm": {
     "name": "#%% md\n"
    }
   },
   "source": [
    "### Qe Conclusion\n",
    "\n",
    "Now, conclude on all the exercise above. \n",
    "\n",
    "Write a short textual conclusion (max. 10- to 20-lines) that extract the _essence_ of the exercises: why did you think it was important to look at these particular ML concepts, and what was our overall learning outcome of the exercises (in broad terms)."
   ]
  },
  {
   "cell_type": "code",
   "execution_count": null,
   "metadata": {
    "pycharm": {
     "name": "#%%\n"
    }
   },
   "outputs": [],
   "source": "#Its vitally important to fully understand why we use certain metrics and how they are calculated. This is important because it allows us to understand the performance of our models and how they can be improved. The overall learning outcome of the exercises is that we now have a better understanding of how to calculate and use the accuracy, precision, recall and F1 score metrics. We also have a better understanding of how to use the confusion matrix and how to interpret it. This is important because it allows us to understand the performance of our models and how they can be improved. \n"
  },
  {
   "cell_type": "markdown",
   "metadata": {
    "pycharm": {
     "name": "#%% md\n"
    }
   },
   "source": [
    "REVISIONS||\n",
    ":- | :- |\n",
    "2018-12-19| CEF, initial.\n",
    "2018-02-07| CEF, updated.\n",
    "2018-02-07| CEF, rewritten accuracy paradox section.\n",
    "2018-03-05| CEF, updated with SHN comments.\n",
    "2019-09-01| CEF, updated for ITMAL v2.\n",
    "2019-09-04| CEF, updated for print-f and added conclusion Q.\n",
    "2020-01-25| CEF, F20 ITMAL update.\n",
    "2020-02-03| CEF, minor text fixes.\n",
    "2020-02-04| CEF, updated page numbers to HOMLv2.\n",
    "2020-02-17| CEF, added implementation note on denominator=0.\n",
    "2020-09-03| CEF, E20 ITMAL update, udpated figs paths.\n",
    "2020-09-06| CEF, added alt text.\n",
    "2020-09-07| CEF, updated HOML page refs.\n",
    "2020-09-21| CEF, fixed factor 2 error in beta-harmonic.\n",
    "2021-01-12| CEF, F21 ITMAL update, moved revision tabel.\n",
    "2021-08-02| CEF, update to E21 ITMAL.\n",
    "2022-01-25| CEF, update to F22 STMAL.\n",
    "2023-02-07| CEF, update HOML page numbers.\n",
    "2023-02-09| CEF, chagned y_train to y_test in conf. matrix call.\n",
    "2023-08-30| CEF, minor table change.\n",
    "2023-10-02| CEF, changed LaTeX commands to defs to get both KaTeX and MathJax to work.\n",
    "2023-10-10| CEF, elaborated on binary classifer data (y=='5'), and not using full 10-class MNIST categories. "
   ]
  }
 ],
 "metadata": {
  "kernelspec": {
   "display_name": "Python 3 (ipykernel)",
   "language": "python",
   "name": "python3"
  },
  "language_info": {
   "codemirror_mode": {
    "name": "ipython",
    "version": 3
   },
   "file_extension": ".py",
   "mimetype": "text/x-python",
   "name": "python",
   "nbconvert_exporter": "python",
   "pygments_lexer": "ipython3",
   "version": "3.9.12"
  },
  "varInspector": {
   "cols": {
    "lenName": 16,
    "lenType": 16,
    "lenVar": 40
   },
   "kernels_config": {
    "python": {
     "delete_cmd_postfix": "",
     "delete_cmd_prefix": "del ",
     "library": "var_list.py",
     "varRefreshCmd": "print(var_dic_list())"
    },
    "r": {
     "delete_cmd_postfix": ") ",
     "delete_cmd_prefix": "rm(",
     "library": "var_list.r",
     "varRefreshCmd": "cat(var_dic_list()) "
    }
   },
   "types_to_exclude": [
    "module",
    "function",
    "builtin_function_or_method",
    "instance",
    "_Feature"
   ],
   "window_display": true
  }
 },
 "nbformat": 4,
 "nbformat_minor": 2
}
