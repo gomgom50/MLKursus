{
 "cells": [
  {
   "cell_type": "code",
   "execution_count": 52,
   "id": "523592fe953cc0f6",
   "metadata": {
    "collapsed": false,
    "ExecuteTime": {
     "end_time": "2024-01-30T12:23:55.679310300Z",
     "start_time": "2024-01-30T12:23:55.663813Z"
    }
   },
   "outputs": [],
   "source": [
    "import pandas as pd\n",
    "import numpy as np\n",
    "import keras as k\n",
    "from sklearn.model_selection import train_test_split \n",
    "\n",
    "# import BBCA_JK new.csv as a dataframe\n",
    "df = pd.read_csv('BBCA.JK new.csv')\n",
    "\n"
   ]
  },
  {
   "cell_type": "code",
   "outputs": [
    {
     "data": {
      "text/plain": "        Open    High     Low   Close\n0     5200.0  5200.0  5200.0  5200.0\n1     5200.0  5245.0  5200.0  5240.0\n2     5200.0  5220.0  5115.0  5180.0\n3     5175.0  5205.0  5125.0  5205.0\n4     5265.0  5325.0  5245.0  5245.0\n...      ...     ...     ...     ...\n1246  9600.0  9650.0  9525.0  9625.0\n1247  9450.0  9600.0  9450.0  9600.0\n1248  9600.0  9600.0  9475.0  9525.0\n1249  9450.0  9575.0  9450.0  9500.0\n1250  9400.0  9450.0  9300.0  9350.0\n\n[1251 rows x 4 columns]",
      "text/html": "<div>\n<style scoped>\n    .dataframe tbody tr th:only-of-type {\n        vertical-align: middle;\n    }\n\n    .dataframe tbody tr th {\n        vertical-align: top;\n    }\n\n    .dataframe thead th {\n        text-align: right;\n    }\n</style>\n<table border=\"1\" class=\"dataframe\">\n  <thead>\n    <tr style=\"text-align: right;\">\n      <th></th>\n      <th>Open</th>\n      <th>High</th>\n      <th>Low</th>\n      <th>Close</th>\n    </tr>\n  </thead>\n  <tbody>\n    <tr>\n      <th>0</th>\n      <td>5200.0</td>\n      <td>5200.0</td>\n      <td>5200.0</td>\n      <td>5200.0</td>\n    </tr>\n    <tr>\n      <th>1</th>\n      <td>5200.0</td>\n      <td>5245.0</td>\n      <td>5200.0</td>\n      <td>5240.0</td>\n    </tr>\n    <tr>\n      <th>2</th>\n      <td>5200.0</td>\n      <td>5220.0</td>\n      <td>5115.0</td>\n      <td>5180.0</td>\n    </tr>\n    <tr>\n      <th>3</th>\n      <td>5175.0</td>\n      <td>5205.0</td>\n      <td>5125.0</td>\n      <td>5205.0</td>\n    </tr>\n    <tr>\n      <th>4</th>\n      <td>5265.0</td>\n      <td>5325.0</td>\n      <td>5245.0</td>\n      <td>5245.0</td>\n    </tr>\n    <tr>\n      <th>...</th>\n      <td>...</td>\n      <td>...</td>\n      <td>...</td>\n      <td>...</td>\n    </tr>\n    <tr>\n      <th>1246</th>\n      <td>9600.0</td>\n      <td>9650.0</td>\n      <td>9525.0</td>\n      <td>9625.0</td>\n    </tr>\n    <tr>\n      <th>1247</th>\n      <td>9450.0</td>\n      <td>9600.0</td>\n      <td>9450.0</td>\n      <td>9600.0</td>\n    </tr>\n    <tr>\n      <th>1248</th>\n      <td>9600.0</td>\n      <td>9600.0</td>\n      <td>9475.0</td>\n      <td>9525.0</td>\n    </tr>\n    <tr>\n      <th>1249</th>\n      <td>9450.0</td>\n      <td>9575.0</td>\n      <td>9450.0</td>\n      <td>9500.0</td>\n    </tr>\n    <tr>\n      <th>1250</th>\n      <td>9400.0</td>\n      <td>9450.0</td>\n      <td>9300.0</td>\n      <td>9350.0</td>\n    </tr>\n  </tbody>\n</table>\n<p>1251 rows × 4 columns</p>\n</div>"
     },
     "execution_count": 53,
     "metadata": {},
     "output_type": "execute_result"
    }
   ],
   "source": [
    "df.drop(\"Date\", axis=1, inplace=True)\n",
    "df.drop(\"Adj Close\", axis=1, inplace=True)\n",
    "df.drop(\"Volume\", axis=1, inplace=True)\n",
    "\n"
   ],
   "metadata": {
    "collapsed": false,
    "ExecuteTime": {
     "end_time": "2024-01-30T12:23:57.429769300Z",
     "start_time": "2024-01-30T12:23:57.421448200Z"
    }
   },
   "id": "16928952f905f586",
   "execution_count": 53
  },
  {
   "cell_type": "code",
   "outputs": [],
   "source": [
    "\n",
    "# divide data as train and test with an 80% split using sklearn first 3 columns are the labels, last column is the target, do not change index\n",
    "train, test = train_test_split(df, test_size=0.2, random_state=42, shuffle=False)"
   ],
   "metadata": {
    "collapsed": false,
    "ExecuteTime": {
     "end_time": "2024-01-30T12:24:15.240042400Z",
     "start_time": "2024-01-30T12:24:15.222634200Z"
    }
   },
   "id": "97042d78266915df",
   "execution_count": 55
  },
  {
   "cell_type": "code",
   "outputs": [
    {
     "data": {
      "text/plain": "        Open    High     Low   Close\n1000  8050.0  8150.0  8000.0  8125.0\n1001  8150.0  8275.0  8125.0  8175.0\n1002  8150.0  8175.0  8025.0  8050.0\n1003  8050.0  8200.0  8050.0  8150.0\n1004  8175.0  8375.0  8150.0  8325.0\n...      ...     ...     ...     ...\n1246  9600.0  9650.0  9525.0  9625.0\n1247  9450.0  9600.0  9450.0  9600.0\n1248  9600.0  9600.0  9475.0  9525.0\n1249  9450.0  9575.0  9450.0  9500.0\n1250  9400.0  9450.0  9300.0  9350.0\n\n[251 rows x 4 columns]",
      "text/html": "<div>\n<style scoped>\n    .dataframe tbody tr th:only-of-type {\n        vertical-align: middle;\n    }\n\n    .dataframe tbody tr th {\n        vertical-align: top;\n    }\n\n    .dataframe thead th {\n        text-align: right;\n    }\n</style>\n<table border=\"1\" class=\"dataframe\">\n  <thead>\n    <tr style=\"text-align: right;\">\n      <th></th>\n      <th>Open</th>\n      <th>High</th>\n      <th>Low</th>\n      <th>Close</th>\n    </tr>\n  </thead>\n  <tbody>\n    <tr>\n      <th>1000</th>\n      <td>8050.0</td>\n      <td>8150.0</td>\n      <td>8000.0</td>\n      <td>8125.0</td>\n    </tr>\n    <tr>\n      <th>1001</th>\n      <td>8150.0</td>\n      <td>8275.0</td>\n      <td>8125.0</td>\n      <td>8175.0</td>\n    </tr>\n    <tr>\n      <th>1002</th>\n      <td>8150.0</td>\n      <td>8175.0</td>\n      <td>8025.0</td>\n      <td>8050.0</td>\n    </tr>\n    <tr>\n      <th>1003</th>\n      <td>8050.0</td>\n      <td>8200.0</td>\n      <td>8050.0</td>\n      <td>8150.0</td>\n    </tr>\n    <tr>\n      <th>1004</th>\n      <td>8175.0</td>\n      <td>8375.0</td>\n      <td>8150.0</td>\n      <td>8325.0</td>\n    </tr>\n    <tr>\n      <th>...</th>\n      <td>...</td>\n      <td>...</td>\n      <td>...</td>\n      <td>...</td>\n    </tr>\n    <tr>\n      <th>1246</th>\n      <td>9600.0</td>\n      <td>9650.0</td>\n      <td>9525.0</td>\n      <td>9625.0</td>\n    </tr>\n    <tr>\n      <th>1247</th>\n      <td>9450.0</td>\n      <td>9600.0</td>\n      <td>9450.0</td>\n      <td>9600.0</td>\n    </tr>\n    <tr>\n      <th>1248</th>\n      <td>9600.0</td>\n      <td>9600.0</td>\n      <td>9475.0</td>\n      <td>9525.0</td>\n    </tr>\n    <tr>\n      <th>1249</th>\n      <td>9450.0</td>\n      <td>9575.0</td>\n      <td>9450.0</td>\n      <td>9500.0</td>\n    </tr>\n    <tr>\n      <th>1250</th>\n      <td>9400.0</td>\n      <td>9450.0</td>\n      <td>9300.0</td>\n      <td>9350.0</td>\n    </tr>\n  </tbody>\n</table>\n<p>251 rows × 4 columns</p>\n</div>"
     },
     "execution_count": 56,
     "metadata": {},
     "output_type": "execute_result"
    }
   ],
   "source": [
    "test"
   ],
   "metadata": {
    "collapsed": false,
    "ExecuteTime": {
     "end_time": "2024-01-30T12:24:17.554780400Z",
     "start_time": "2024-01-30T12:24:17.513392500Z"
    }
   },
   "id": "823a29f58c405239",
   "execution_count": 56
  },
  {
   "cell_type": "code",
   "outputs": [
    {
     "name": "stdout",
     "output_type": "stream",
     "text": [
      "Epoch 1/100\n",
      "100/100 [==============================] - 0s 1ms/step - loss: 3956977.0000\n",
      "Epoch 2/100\n",
      "100/100 [==============================] - 0s 893us/step - loss: 470505.6562\n",
      "Epoch 3/100\n",
      "100/100 [==============================] - 0s 929us/step - loss: 453221.1250\n",
      "Epoch 4/100\n",
      "100/100 [==============================] - 0s 931us/step - loss: 341185.5312\n",
      "Epoch 5/100\n",
      "100/100 [==============================] - 0s 830us/step - loss: 305905.8750\n",
      "Epoch 6/100\n",
      "100/100 [==============================] - 0s 995us/step - loss: 298098.1250\n",
      "Epoch 7/100\n",
      "100/100 [==============================] - 0s 918us/step - loss: 274957.8438\n",
      "Epoch 8/100\n",
      "100/100 [==============================] - 0s 881us/step - loss: 254630.8750\n",
      "Epoch 9/100\n",
      "100/100 [==============================] - 0s 861us/step - loss: 235638.3438\n",
      "Epoch 10/100\n",
      "100/100 [==============================] - 0s 924us/step - loss: 246459.9219\n",
      "Epoch 11/100\n",
      "100/100 [==============================] - 0s 863us/step - loss: 246157.5938\n",
      "Epoch 12/100\n",
      "100/100 [==============================] - 0s 914us/step - loss: 204413.3750\n",
      "Epoch 13/100\n",
      "100/100 [==============================] - 0s 982us/step - loss: 219003.4688\n",
      "Epoch 14/100\n",
      "100/100 [==============================] - 0s 950us/step - loss: 201408.5625\n",
      "Epoch 15/100\n",
      "100/100 [==============================] - 0s 879us/step - loss: 218221.7656\n",
      "Epoch 16/100\n",
      "100/100 [==============================] - 0s 850us/step - loss: 230558.2500\n",
      "Epoch 17/100\n",
      "100/100 [==============================] - 0s 909us/step - loss: 233488.9531\n",
      "Epoch 18/100\n",
      "100/100 [==============================] - 0s 788us/step - loss: 265528.5625\n",
      "Epoch 19/100\n",
      "100/100 [==============================] - 0s 848us/step - loss: 217332.6719\n",
      "Epoch 20/100\n",
      "100/100 [==============================] - 0s 778us/step - loss: 236223.0938\n",
      "Epoch 21/100\n",
      "100/100 [==============================] - 0s 806us/step - loss: 209729.8281\n",
      "Epoch 22/100\n",
      "100/100 [==============================] - 0s 798us/step - loss: 208923.1719\n",
      "Epoch 23/100\n",
      "100/100 [==============================] - 0s 819us/step - loss: 270332.8125\n",
      "Epoch 24/100\n",
      "100/100 [==============================] - 0s 968us/step - loss: 233952.6719\n",
      "Epoch 25/100\n",
      "100/100 [==============================] - 0s 939us/step - loss: 240914.2969\n",
      "Epoch 26/100\n",
      "100/100 [==============================] - 0s 934us/step - loss: 257190.3906\n",
      "Epoch 27/100\n",
      "100/100 [==============================] - 0s 781us/step - loss: 226178.6406\n",
      "Epoch 28/100\n",
      "100/100 [==============================] - 0s 815us/step - loss: 230943.1562\n",
      "Epoch 29/100\n",
      "100/100 [==============================] - 0s 840us/step - loss: 197253.1875\n",
      "Epoch 30/100\n",
      "100/100 [==============================] - 0s 897us/step - loss: 210962.0000\n",
      "Epoch 31/100\n",
      "100/100 [==============================] - 0s 811us/step - loss: 219239.8906\n",
      "Epoch 32/100\n",
      "100/100 [==============================] - 0s 813us/step - loss: 208533.5625\n",
      "Epoch 33/100\n",
      "100/100 [==============================] - 0s 793us/step - loss: 218754.7031\n",
      "Epoch 34/100\n",
      "100/100 [==============================] - 0s 796us/step - loss: 207941.4219\n",
      "Epoch 35/100\n",
      "100/100 [==============================] - 0s 877us/step - loss: 210334.2812\n",
      "Epoch 36/100\n",
      "100/100 [==============================] - 0s 909us/step - loss: 216417.5938\n",
      "Epoch 37/100\n",
      "100/100 [==============================] - 0s 960us/step - loss: 224662.6094\n",
      "Epoch 38/100\n",
      "100/100 [==============================] - 0s 836us/step - loss: 245827.0781\n",
      "Epoch 39/100\n",
      "100/100 [==============================] - 0s 796us/step - loss: 236470.5469\n",
      "Epoch 40/100\n",
      "100/100 [==============================] - 0s 803us/step - loss: 215172.8438\n",
      "Epoch 41/100\n",
      "100/100 [==============================] - 0s 866us/step - loss: 212055.2031\n",
      "Epoch 42/100\n",
      "100/100 [==============================] - 0s 824us/step - loss: 207547.9375\n",
      "Epoch 43/100\n",
      "100/100 [==============================] - 0s 807us/step - loss: 223977.8750\n",
      "Epoch 44/100\n",
      "100/100 [==============================] - 0s 855us/step - loss: 212087.3438\n",
      "Epoch 45/100\n",
      "100/100 [==============================] - 0s 792us/step - loss: 209521.6875\n",
      "Epoch 46/100\n",
      "100/100 [==============================] - 0s 780us/step - loss: 215981.4375\n",
      "Epoch 47/100\n",
      "100/100 [==============================] - 0s 914us/step - loss: 229188.6719\n",
      "Epoch 48/100\n",
      "100/100 [==============================] - 0s 944us/step - loss: 231098.8906\n",
      "Epoch 49/100\n",
      "100/100 [==============================] - 0s 946us/step - loss: 187778.1094\n",
      "Epoch 50/100\n",
      "100/100 [==============================] - 0s 819us/step - loss: 230163.9844\n",
      "Epoch 51/100\n",
      "100/100 [==============================] - 0s 831us/step - loss: 209842.2344\n",
      "Epoch 52/100\n",
      "100/100 [==============================] - 0s 848us/step - loss: 223842.1250\n",
      "Epoch 53/100\n",
      "100/100 [==============================] - 0s 839us/step - loss: 212374.2344\n",
      "Epoch 54/100\n",
      "100/100 [==============================] - 0s 837us/step - loss: 214000.2188\n",
      "Epoch 55/100\n",
      "100/100 [==============================] - 0s 825us/step - loss: 225726.4062\n",
      "Epoch 56/100\n",
      "100/100 [==============================] - 0s 804us/step - loss: 202341.2969\n",
      "Epoch 57/100\n",
      "100/100 [==============================] - 0s 799us/step - loss: 203040.2031\n",
      "Epoch 58/100\n",
      "100/100 [==============================] - 0s 890us/step - loss: 207484.0781\n",
      "Epoch 59/100\n",
      "100/100 [==============================] - 0s 961us/step - loss: 208577.2812\n",
      "Epoch 60/100\n",
      "100/100 [==============================] - 0s 922us/step - loss: 217756.4531\n",
      "Epoch 61/100\n",
      "100/100 [==============================] - 0s 859us/step - loss: 226089.4219\n",
      "Epoch 62/100\n",
      "100/100 [==============================] - 0s 774us/step - loss: 191731.1406\n",
      "Epoch 63/100\n",
      "100/100 [==============================] - 0s 799us/step - loss: 202979.3281\n",
      "Epoch 64/100\n",
      "100/100 [==============================] - 0s 791us/step - loss: 202781.6562\n",
      "Epoch 65/100\n",
      "100/100 [==============================] - 0s 905us/step - loss: 212552.7188\n",
      "Epoch 66/100\n",
      "100/100 [==============================] - 0s 790us/step - loss: 200521.9688\n",
      "Epoch 67/100\n",
      "100/100 [==============================] - 0s 779us/step - loss: 214918.7969\n",
      "Epoch 68/100\n",
      "100/100 [==============================] - 0s 806us/step - loss: 220959.9062\n",
      "Epoch 69/100\n",
      "100/100 [==============================] - 0s 819us/step - loss: 218650.5781\n",
      "Epoch 70/100\n",
      "100/100 [==============================] - 0s 856us/step - loss: 193400.2812\n",
      "Epoch 71/100\n",
      "100/100 [==============================] - 0s 953us/step - loss: 203750.8906\n",
      "Epoch 72/100\n",
      "100/100 [==============================] - 0s 945us/step - loss: 205586.3438\n",
      "Epoch 73/100\n",
      "100/100 [==============================] - 0s 813us/step - loss: 208550.4844\n",
      "Epoch 74/100\n",
      "100/100 [==============================] - 0s 803us/step - loss: 222349.9844\n",
      "Epoch 75/100\n",
      "100/100 [==============================] - 0s 786us/step - loss: 235961.4375\n",
      "Epoch 76/100\n",
      "100/100 [==============================] - 0s 808us/step - loss: 186246.7344\n",
      "Epoch 77/100\n",
      "100/100 [==============================] - 0s 876us/step - loss: 185332.7500\n",
      "Epoch 78/100\n",
      "100/100 [==============================] - 0s 795us/step - loss: 191384.5000\n",
      "Epoch 79/100\n",
      "100/100 [==============================] - 0s 823us/step - loss: 222464.0781\n",
      "Epoch 80/100\n",
      "100/100 [==============================] - 0s 789us/step - loss: 195199.8594\n",
      "Epoch 81/100\n",
      "100/100 [==============================] - 0s 800us/step - loss: 202805.8281\n",
      "Epoch 82/100\n",
      "100/100 [==============================] - 0s 930us/step - loss: 177286.0000\n",
      "Epoch 83/100\n",
      "100/100 [==============================] - 0s 959us/step - loss: 198199.4062\n",
      "Epoch 84/100\n",
      "100/100 [==============================] - 0s 912us/step - loss: 202750.0938\n",
      "Epoch 85/100\n",
      "100/100 [==============================] - 0s 835us/step - loss: 198366.3438\n",
      "Epoch 86/100\n",
      "100/100 [==============================] - 0s 814us/step - loss: 217778.2500\n",
      "Epoch 87/100\n",
      "100/100 [==============================] - 0s 802us/step - loss: 239998.7812\n",
      "Epoch 88/100\n",
      "100/100 [==============================] - 0s 805us/step - loss: 202266.4688\n",
      "Epoch 89/100\n",
      "100/100 [==============================] - 0s 842us/step - loss: 194703.5625\n",
      "Epoch 90/100\n",
      "100/100 [==============================] - 0s 797us/step - loss: 209206.9062\n",
      "Epoch 91/100\n",
      "100/100 [==============================] - 0s 793us/step - loss: 220924.1562\n",
      "Epoch 92/100\n",
      "100/100 [==============================] - 0s 791us/step - loss: 199984.7812\n",
      "Epoch 93/100\n",
      "100/100 [==============================] - 0s 838us/step - loss: 186139.6250\n",
      "Epoch 94/100\n",
      "100/100 [==============================] - 0s 941us/step - loss: 178591.4375\n",
      "Epoch 95/100\n",
      "100/100 [==============================] - 0s 929us/step - loss: 178476.4844\n",
      "Epoch 96/100\n",
      "100/100 [==============================] - 0s 864us/step - loss: 189841.1875\n",
      "Epoch 97/100\n",
      "100/100 [==============================] - 0s 804us/step - loss: 175636.0469\n",
      "Epoch 98/100\n",
      "100/100 [==============================] - 0s 791us/step - loss: 206134.5312\n",
      "Epoch 99/100\n",
      "100/100 [==============================] - 0s 837us/step - loss: 187190.6719\n",
      "Epoch 100/100\n",
      "100/100 [==============================] - 0s 868us/step - loss: 171109.5156\n",
      "8/8 [==============================] - 0s 750us/step - loss: 929915.0625\n"
     ]
    },
    {
     "data": {
      "text/plain": "929915.0625"
     },
     "execution_count": 64,
     "metadata": {},
     "output_type": "execute_result"
    }
   ],
   "source": [
    "\n",
    "#create a keras model, with two layers and 25 neurons per layer, the last column as the target. it should be a regression model and use mean squared error\n",
    "\n",
    "model = k.models.Sequential()\n",
    "model.add(k.layers.Dense(250, input_dim=3, activation='relu'))\n",
    "# add dropout layer\n",
    "model.add(k.layers.Dropout(0.2))\n",
    "model.add(k.layers.Dense(250, activation='relu'))\n",
    "# add dropout layer\n",
    "model.add(k.layers.Dropout(0.2))\n",
    "model.add(k.layers.Dense(1, activation='linear'))\n",
    "\n",
    "#compile the model\n",
    "opt = k.optimizers.Adam(learning_rate=0.0005)\n",
    "model.compile(loss='mse', optimizer=opt)\n",
    "\n",
    "#fit the model\n",
    "model.fit(train.iloc[:,:3], train.iloc[:,3], epochs=100, batch_size=10)\n",
    "\n",
    "#evaluate the model\n",
    "model.evaluate(test.iloc[:,:3], test.iloc[:,3])"
   ],
   "metadata": {
    "collapsed": false,
    "ExecuteTime": {
     "end_time": "2024-01-30T12:28:43.799739400Z",
     "start_time": "2024-01-30T12:28:34.662117700Z"
    }
   },
   "id": "f28d24bd05c72a5b",
   "execution_count": 64
  },
  {
   "cell_type": "code",
   "outputs": [
    {
     "name": "stdout",
     "output_type": "stream",
     "text": [
      "8/8 [==============================] - 0s 885us/step\n"
     ]
    },
    {
     "data": {
      "text/plain": "<Figure size 640x480 with 1 Axes>",
      "image/png": "[encoded data removed]"
     },
     "metadata": {},
     "output_type": "display_data"
    }
   ],
   "source": [
    "\n",
    "\n",
    "#plot two line plots, one for the actual values and one for the predicted values, reset test data index to 0\n",
    "import matplotlib.pyplot as plt\n",
    "plt.plot(test.iloc[:,3].reset_index(drop=True))\n",
    "plt.plot(model.predict(test.iloc[:,:3]))\n",
    "plt.show()\n",
    "\n",
    "\n",
    "\n",
    "\n"
   ],
   "metadata": {
    "collapsed": true,
    "ExecuteTime": {
     "end_time": "2024-01-30T12:28:46.948969Z",
     "start_time": "2024-01-30T12:28:46.806419200Z"
    }
   },
   "id": "initial_id",
   "execution_count": 65
  },
  {
   "cell_type": "code",
   "outputs": [
    {
     "name": "stdout",
     "output_type": "stream",
     "text": [
      "7/7 [==============================] - 0s 787us/step\n"
     ]
    },
    {
     "data": {
      "text/plain": "array([[ 0.25893912],\n       [-0.18484864],\n       [ 0.12951267],\n       [ 0.00373283],\n       [ 0.02874452],\n       [-0.05579584],\n       [ 0.07605065],\n       [-0.01668452],\n       [ 0.01050415],\n       [-0.07830361],\n       [-0.00744373],\n       [-0.02257302],\n       [-0.11638287],\n       [ 0.1177441 ],\n       [-0.03562431],\n       [ 0.09355153],\n       [-0.19718288],\n       [ 0.21795236],\n       [ 0.2532898 ],\n       [ 0.12675646],\n       [-0.186881  ],\n       [-0.10673942],\n       [-0.00074491],\n       [ 0.10561384],\n       [-0.04650421],\n       [-0.10541759],\n       [ 0.10144526],\n       [ 0.11895376],\n       [-0.1019379 ],\n       [-0.09298529],\n       [-0.28616023],\n       [-0.12140717],\n       [ 0.11857401],\n       [-0.09106173],\n       [ 0.01636708],\n       [-0.1823393 ],\n       [ 0.01205426],\n       [-0.208877  ],\n       [ 0.08725579],\n       [ 0.04411204],\n       [ 0.00100888],\n       [-0.13262515],\n       [-0.03413413],\n       [-0.11105401],\n       [ 0.16820398],\n       [-0.14424877],\n       [ 0.16906847],\n       [ 0.20109963],\n       [ 0.16109718],\n       [-0.03018008],\n       [ 0.08389571],\n       [-0.1394233 ],\n       [-0.02090685],\n       [ 0.11174983],\n       [ 0.0562066 ],\n       [ 0.00436407],\n       [ 0.00382341],\n       [-0.08331345],\n       [ 0.06031875],\n       [-0.200177  ],\n       [ 0.13919471],\n       [-0.07018344],\n       [ 0.02675441],\n       [-0.09278534],\n       [ 0.3891066 ],\n       [-0.06377544],\n       [ 0.08750831],\n       [-0.07014729],\n       [-0.14964972],\n       [ 0.17541519],\n       [ 0.39374527],\n       [ 0.10834222],\n       [-0.04387896],\n       [-0.08872271],\n       [ 0.02133535],\n       [-0.20451517],\n       [-0.14070423],\n       [-0.11790485],\n       [-0.17773442],\n       [ 0.03016309],\n       [-0.1377249 ],\n       [-0.15525873],\n       [ 0.19419143],\n       [-0.17920348],\n       [ 0.1316028 ],\n       [ 0.063273  ],\n       [ 0.13502704],\n       [-0.11322722],\n       [-0.01047673],\n       [-0.0718862 ],\n       [ 0.11586019],\n       [-0.1694165 ],\n       [-0.05779538],\n       [-0.11239877],\n       [ 0.03807604],\n       [-0.13541086],\n       [ 0.09569404],\n       [ 0.00156409],\n       [-0.1341585 ],\n       [-0.08494018],\n       [ 0.00237387],\n       [-0.09268151],\n       [-0.17355798],\n       [-0.1257406 ],\n       [-0.08256464],\n       [ 0.01180632],\n       [-0.09871136],\n       [ 0.15073925],\n       [-0.06269791],\n       [-0.04644264],\n       [-0.01705495],\n       [ 0.1890318 ],\n       [ 0.02315244],\n       [-0.01561964],\n       [ 0.02887358],\n       [ 0.25698078],\n       [ 0.11266591],\n       [ 0.01813273],\n       [-0.15950355],\n       [ 0.19653414],\n       [-0.09155661],\n       [ 0.03860345],\n       [-0.12603743],\n       [-0.0650124 ],\n       [ 0.15872857],\n       [ 0.02733499],\n       [ 0.02519312],\n       [ 0.19220705],\n       [ 0.10442149],\n       [-0.11570914],\n       [ 0.02055652],\n       [ 0.15157631],\n       [ 0.1562688 ],\n       [-0.02013822],\n       [ 0.2190171 ],\n       [ 0.08193015],\n       [-0.017172  ],\n       [-0.14378875],\n       [ 0.2666671 ],\n       [ 0.1263524 ],\n       [-0.09221752],\n       [-0.18157257],\n       [ 0.11951806],\n       [-0.17233987],\n       [ 0.13307677],\n       [ 0.1087733 ],\n       [-0.07783826],\n       [-0.06519678],\n       [ 0.00371501],\n       [-0.13649318],\n       [ 0.00857625],\n       [ 0.12713897],\n       [ 0.29693407],\n       [-0.03649701],\n       [ 0.02790415],\n       [ 0.08543541],\n       [ 0.23932192],\n       [ 0.021261  ],\n       [-0.00841348],\n       [-0.1336654 ],\n       [ 0.22332965],\n       [ 0.05424872],\n       [-0.16329022],\n       [-0.01681049],\n       [-0.1428247 ],\n       [-0.04872587],\n       [ 0.15003581],\n       [-0.1820769 ],\n       [ 0.02961279],\n       [-0.13178708],\n       [-0.08078349],\n       [-0.03709686],\n       [-0.03529994],\n       [-0.05190192],\n       [-0.04911996],\n       [-0.09405485],\n       [ 0.06290831],\n       [-0.25570127],\n       [ 0.04511006],\n       [-0.12284996],\n       [-0.04755902],\n       [ 0.03945666],\n       [ 0.1192537 ],\n       [ 0.10858303],\n       [ 0.0209264 ],\n       [ 0.1432732 ],\n       [-0.04634045],\n       [-0.18833332],\n       [-0.01979543],\n       [ 0.19915088],\n       [ 0.16312619],\n       [-0.00691614],\n       [ 0.10638702],\n       [-0.09312722],\n       [ 0.11228417],\n       [-0.04352737],\n       [ 0.0419812 ],\n       [ 0.16784206],\n       [ 0.10855058],\n       [ 0.03514563]], dtype=float32)"
     },
     "execution_count": 18,
     "metadata": {},
     "output_type": "execute_result"
    }
   ],
   "source": [
    "model.predict(test.iloc[:,:3])"
   ],
   "metadata": {
    "collapsed": false,
    "ExecuteTime": {
     "end_time": "2024-01-30T11:59:11.946681800Z",
     "start_time": "2024-01-30T11:59:11.881118600Z"
    }
   },
   "id": "f5f84c21280c1b46",
   "execution_count": 18
  },
  {
   "cell_type": "code",
   "outputs": [
    {
     "data": {
      "text/plain": "521   -0.280677\n737    0.878829\n740    0.254646\n660    0.093398\n411   -0.189069\n         ...   \n408    0.136739\n332    0.131615\n208    0.426450\n613    0.132239\n78     0.755904\nName: D, Length: 200, dtype: float64"
     },
     "execution_count": 22,
     "metadata": {},
     "output_type": "execute_result"
    }
   ],
   "source": [
    "test.iloc[:,3]"
   ],
   "metadata": {
    "collapsed": false,
    "ExecuteTime": {
     "end_time": "2024-01-30T12:00:30.519514400Z",
     "start_time": "2024-01-30T12:00:30.502568500Z"
    }
   },
   "id": "96533ae8a771997f",
   "execution_count": 22
  },
  {
   "cell_type": "code",
   "outputs": [],
   "source": [],
   "metadata": {
    "collapsed": false
   },
   "id": "fd4dea64ebc7cf21"
  }
 ],
 "metadata": {
  "kernelspec": {
   "display_name": "Python 3",
   "language": "python",
   "name": "python3"
  },
  "language_info": {
   "codemirror_mode": {
    "name": "ipython",
    "version": 2
   },
   "file_extension": ".py",
   "mimetype": "text/x-python",
   "name": "python",
   "nbconvert_exporter": "python",
   "pygments_lexer": "ipython2",
   "version": "2.7.6"
  }
 },
 "nbformat": 4,
 "nbformat_minor": 5
}
