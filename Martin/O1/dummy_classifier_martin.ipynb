{
 "cells": [
  {
   "cell_type": "markdown",
   "metadata": {},
   "source": [
    "# SWMAL Exercise\n",
    "\n",
    "## Implementing a dummy binary-classifier with fit-predict interface\n",
    "\n",
    "We begin with the MNIST data-set and will reuse the data loader from Scikit-learn. Next we create a dummy classifier, and compare the results of the SGD and dummy classifiers using the MNIST data...\n",
    "\n",
    "#### Qa  Load and display the MNIST data\n",
    "\n",
    "There is a `sklearn.datasets.fetch_openml` dataloader interface in Scikit-learn. You can load MNIST data like \n",
    "\n",
    "```python\n",
    "from sklearn.datasets import fetch_openml\n",
    "# Load data from https://www.openml.org/d/554\n",
    "X, y = fetch_openml(dataid = 554,??) # needs to return X, y, replace '??' with suitable parameters! \n",
    "# Convert to [0;1] via scaling (not always needed)\n",
    "#X = X / 255.\n",
    "```\n",
    "\n",
    "but you need to set parameters like `return_X_y` and `cache` if the default values are not suitable! \n",
    "\n",
    "Check out the documentation for the `fetch_openml` MNIST loader, try it out by loading a (X,y) MNIST data set, and plot a single digit via the `MNIST_PlotDigit` function here (input data is a 28x28 NMIST subimage)\n",
    "\n",
    "```python\n",
    "%matplotlib inline\n",
    "def MNIST_PlotDigit(data):\n",
    "    import matplotlib\n",
    "    import matplotlib.pyplot as plt\n",
    "    image = data.reshape(28, 28)\n",
    "    plt.imshow(image, cmap = matplotlib.cm.binary, interpolation=\"nearest\")\n",
    "    plt.axis(\"off\")\n",
    "```\n",
    "\n",
    "Finally, put the MNIST loader into a single function called `MNIST_GetDataSet()` so you can reuse it later."
   ]
  },
  {
   "cell_type": "code",
   "execution_count": 1,
   "metadata": {},
   "outputs": [
    {
     "data": {
      "text/plain": [
       "'\\nTo get and receive the data fetched from the MNIST_GetDataSet() function. The function would need to be called like so:\\n- X, y = MNIST_GetDataSet()\\nThis stores the Data variable into X and the corrisponding target values into y.\\n'"
      ]
     },
     "execution_count": 1,
     "metadata": {},
     "output_type": "execute_result"
    }
   ],
   "source": [
    "# TODO: add your code here..\n",
    "from sklearn.datasets import fetch_openml\n",
    "# Load data from https://www.openml.org/d/554\n",
    "\n",
    "\"\"\"\n",
    "For the data fetch from the documentation the \"return_X_y\" has to be equal to return the data and its target.\n",
    "The attribute \"as_frame\" has to be equal to false, since this course is focusing on numpy rather than pandas.\n",
    "\"\"\"\n",
    "\n",
    "#X, y = fetch_openml(name=\"mnist_784\",return_X_y=True, as_frame=False) # needs to return X, y, replace '??' with suitable parameters! \n",
    "# Convert to [0;1] via scaling (not always needed)\n",
    "#X = X / 255.\n",
    "\n",
    "\n",
    "def MNIST_PlotDigit(data):\n",
    "    import matplotlib\n",
    "    import matplotlib.pyplot as plt\n",
    "    image = data.reshape(28, 28)\n",
    "    plt.imshow(image, cmap = matplotlib.cm.binary, interpolation=\"nearest\")\n",
    "    plt.axis(\"off\")\n",
    "    \n",
    "def MNIST_GetDataSet():\n",
    "    Data, Target = fetch_openml(name=\"mnist_784\",return_X_y=True, as_frame=False)\n",
    "    Data = Data / 255 #Converts to binary\n",
    "    return Data,Target\n",
    "    \n",
    "\"\"\"\n",
    "To plot data MNIST_PlotDigit can be called like so:\n",
    "- MNIST_PlotDigit(X[1])\n",
    "Where the data of column \"pixel-2\" will be plotted and represent an \"O\".\n",
    "\"\"\"\n",
    "\n",
    "\"\"\"\n",
    "To get and receive the data fetched from the MNIST_GetDataSet() function. The function would need to be called like so:\n",
    "- X, y = MNIST_GetDataSet()\n",
    "This stores the Data variable into X and the corrisponding target values into y.\n",
    "\"\"\"\n",
    "\n",
    "\n",
    "#assert False, \"TODO: solve Qa, and remove me..\""
   ]
  },
  {
   "cell_type": "markdown",
   "metadata": {},
   "source": [
    "#### Qb  Add a Stochastic Gradient Decent [SGD] Classifier\n",
    "\n",
    "Create a train-test data-set for MNIST and then add the `SGDClassifier` as done in [HOML], p.103.\n",
    "\n",
    "Split your data and run the fit-predict for the classifier using the MNIST data.(We will be looking at cross-validation instead of the simple fit-predict in a later exercise.)\n",
    "\n",
    "Notice that you have to reshape the MNIST X-data to be able to use the classifier. It may be a 3D array, consisting of 70000 (28 x 28) images, or just a 2D array consisting of 70000 elements of size 784.\n",
    "\n",
    "A simple `reshape()` could fix this on-the-fly:\n",
    "```python\n",
    "X, y = MNIST_GetDataSet()\n",
    "\n",
    "print(f\"X.shape={X.shape}\") # print X.shape= (70000, 28, 28)\n",
    "if X.ndim==3:\n",
    "    print(\"reshaping X..\")\n",
    "    assert y.ndim==1\n",
    "    X = X.reshape((X.shape[0],X.shape[1]*X.shape[2]))\n",
    "assert X.ndim==2\n",
    "print(f\"X.shape={X.shape}\") # X.shape= (70000, 784)\n",
    "```\n",
    "\n",
    "Remember to use the category-5 y inputs\n",
    "\n",
    "```python\n",
    "y_train_5 = (y_train == '5')    \n",
    "y_test_5  = (y_test == '5')\n",
    "```\n",
    "instead of the `y`'s you are getting out of the dataloader. In effect, we have now created a binary-classifier, that enable us to classify a particular data sample, $\\mathbf{x}(i)$ (that is a 28x28 image), as being a-class-5 or not-a-class-5. \n",
    "\n",
    "Test your model on using the test data, and try to plot numbers that have been categorized correctly. Then also find and plots some misclassified numbers."
   ]
  },
  {
   "cell_type": "code",
   "execution_count": 2,
   "metadata": {},
   "outputs": [
    {
     "name": "stderr",
     "output_type": "stream",
     "text": [
      "C:\\Users\\45201\\AppData\\Local\\Packages\\PythonSoftwareFoundation.Python.3.11_qbz5n2kfra8p0\\LocalCache\\local-packages\\Python311\\site-packages\\sklearn\\datasets\\_openml.py:1022: FutureWarning: The default value of `parser` will change from `'liac-arff'` to `'auto'` in 1.4. You can set `parser='auto'` to silence this warning. Therefore, an `ImportError` will be raised from 1.4 if the dataset is dense and pandas is not installed. Note that the pandas parser may return different data types. See the Notes Section in fetch_openml's API doc for details.\n",
      "  warn(\n"
     ]
    },
    {
     "name": "stdout",
     "output_type": "stream",
     "text": [
      "[15, 23, 45, 52, 53, 59, 102, 120, 127, 129, 132, 152, 155, 162, 165, 167, 182, 187, 207, 218, 219, 240, 245, 253, 261, 283, 289, 317, 319, 333, 347, 351, 356, 364, 367, 375, 395, 397, 412, 433, 483, 491, 509, 518, 540, 569, 570, 588, 604, 618, 638, 654, 692, 694, 710, 711, 739, 766, 778, 779, 785, 797, 812, 856, 866, 869, 897, 934, 935, 938, 951, 978, 1003, 1014, 1022, 1028, 1041, 1046, 1070, 1073, 1087, 1102, 1113, 1115, 1131, 1135, 1144, 1146, 1168, 1190, 1202, 1221, 1233, 1235, 1252, 1258, 1272, 1281, 1285, 1334, 1339, 1340, 1370, 1376, 1405, 1406, 1460, 1471, 1473, 1487, 1493, 1510, 1521, 1550, 1598, 1618, 1629, 1635, 1639, 1653, 1670, 1672, 1677, 1693, 1709, 1737, 1747, 1752, 1761, 1810, 1833, 1846, 1847, 1860, 1866, 1874, 1879, 1896, 1902, 1911, 1931, 1940, 1948, 1967, 1999, 2003, 2021, 2029, 2030, 2037, 2047, 2064, 2077, 2078, 2100, 2103, 2114, 2134, 2159, 2180, 2207, 2214, 2215, 2237, 2241, 2247, 2279, 2322, 2328, 2339, 2346, 2393, 2400, 2413, 2445, 2452, 2476, 2487, 2515, 2518, 2526, 2534, 2540, 2545, 2546, 2554, 2558, 2569, 2574, 2581, 2597, 2604, 2606, 2616, 2644, 2653, 2682, 2686, 2689, 2695, 2697, 2727, 2743, 2768, 2772, 2773, 2775, 2790, 2797, 2798, 2805, 2814, 2839, 2855, 2903, 2909, 2913, 2922, 2948, 2951, 2956, 2957, 2969, 2986, 2987, 3007, 3022, 3028, 3053, 3093, 3095, 3113, 3115, 3119, 3127, 3145, 3171, 3220, 3254, 3275, 3295, 3311, 3312, 3321, 3334, 3335, 3345, 3372, 3393, 3408, 3416, 3462, 3470, 3537, 3552, 3556, 3559, 3567, 3569, 3570, 3590, 3591, 3595, 3619, 3623, 3631, 3636, 3645, 3654, 3663, 3678, 3681, 3691, 3750, 3754, 3756, 3778, 3788, 3797, 3806, 3814, 3826, 3837, 3853, 3855, 3860, 3863, 3877, 3890, 3898, 3907, 3917, 3918, 3928, 3943, 3955, 3957, 3960, 3968, 3994, 4031, 4054, 4056, 4067, 4094, 4108, 4118, 4202, 4211, 4218, 4219, 4226, 4233, 4236, 4263, 4271, 4282, 4307, 4310, 4312, 4323, 4338, 4340, 4359, 4364, 4368, 4378, 4381, 4420, 4422, 4461, 4472, 4520, 4529, 4569, 4577, 4596, 4637, 4645, 4689, 4696, 4711, 4712, 4728, 4749, 4762, 4766, 4771, 4808, 4809, 4810, 4830, 4844, 4867, 4892, 4902, 4933, 4942, 4979, 5020, 5021, 5056, 5083, 5098, 5102, 5111, 5134, 5152, 5160, 5170, 5174, 5176, 5187, 5196, 5197, 5206, 5207, 5222, 5223, 5229, 5231, 5275, 5285, 5295, 5302, 5325, 5339, 5347, 5351, 5364, 5374, 5389, 5397, 5400, 5410, 5420, 5432, 5445, 5451, 5473, 5480, 5488, 5510, 5518, 5528, 5570, 5571, 5572, 5574, 5579, 5598, 5618, 5624, 5632, 5633, 5642, 5658, 5662, 5668, 5682, 5697, 5706, 5711, 5726, 5742, 5769, 5779, 5802, 5807, 5833, 5843, 5852, 5862, 5867, 5885, 5910, 5947, 5964, 5972, 5982, 6028, 6053, 6067, 6077, 6087, 6095, 6120, 6136, 6142, 6146, 6148, 6155, 6165, 6186, 6196, 6206, 6215, 6216, 6227, 6236, 6244, 6257, 6270, 6277, 6282, 6291, 6314, 6324, 6333, 6341, 6368, 6386, 6405, 6414, 6415, 6476, 6483, 6486, 6491, 6500, 6511, 6518, 6522, 6525, 6537, 6544, 6548, 6600, 6611, 6620, 6638, 6641, 6651, 6657, 6728, 6788, 6803, 6813, 6823, 6832, 6860, 6866, 6879, 6880, 6884, 6886, 6899, 6908, 6932, 6942, 6952, 6964, 6965, 6977, 6991, 7003, 7018, 7029, 7036, 7057, 7067, 7077, 7090, 7108, 7134, 7142, 7155, 7160, 7178, 7187, 7240, 7241, 7264, 7274, 7284, 7306, 7315, 7324, 7352, 7388, 7393, 7397, 7403, 7414, 7430, 7437, 7444, 7448, 7454, 7474, 7475, 7478, 7521, 7531, 7541, 7559, 7577, 7578, 7583, 7602, 7612, 7622, 7630, 7649, 7659, 7676, 7679, 7698, 7715, 7732, 7742, 7752, 7793, 7819, 7938, 7948, 7958, 7965, 7974, 7988, 7996, 7997, 8034, 8035, 8038, 8049, 8082, 8089, 8122, 8132, 8142, 8149, 8157, 8158, 8160, 8170, 8180, 8181, 8183, 8185, 8192, 8196, 8214, 8224, 8232, 8270, 8275, 8299, 8327, 8331, 8348, 8366, 8386, 8405, 8412, 8413, 8415, 8444, 8445, 8447, 8463, 8473, 8487, 8502, 8507, 8531, 8539, 8553, 8563, 8571, 8578, 8601, 8630, 8632, 8643, 8645, 8652, 8653, 8656, 8665, 8676, 8686, 8696, 8702, 8710, 8711, 8737, 8741, 8747, 8761, 8774, 8783, 8788, 8803, 8813, 8823, 8834, 8835, 8847, 8853, 8855, 8863, 8878, 8909, 8940, 8948, 8964, 8982, 8987, 9013, 9035, 9065, 9075, 9109, 9114, 9117, 9119, 9132, 9159, 9160, 9176, 9184, 9194, 9228, 9234, 9260, 9268, 9277, 9280, 9289, 9290, 9298, 9315, 9329, 9331, 9337, 9338, 9349, 9360, 9372, 9382, 9391, 9398, 9400, 9427, 9428, 9465, 9478, 9481, 9493, 9503, 9513, 9523, 9533, 9545, 9583, 9584, 9588, 9590, 9600, 9606, 9614, 9616, 9626, 9651, 9671, 9675, 9685, 9702, 9709, 9747, 9754, 9786, 9814, 9830, 9841, 9870, 9877, 9907, 9988, 9998]\n"
     ]
    },
    {
     "data": {
      "image/png": "[encoded data removed]",
      "text/plain": [
       "<Figure size 640x480 with 1 Axes>"
      ]
     },
     "metadata": {},
     "output_type": "display_data"
    }
   ],
   "source": [
    "# TODO: add your code here..\n",
    "from sklearn.linear_model import SGDClassifier\n",
    "import numpy as np\n",
    "\n",
    "X,y = MNIST_GetDataSet()\n",
    "\n",
    "#y = y.astype(np.uint8)\n",
    "\n",
    "\"\"\"\n",
    "Below our training and test data is trained on the first 10000 entries and tested on the last 10000.\n",
    "\"\"\"\n",
    "X_train, X_Test, y_train, y_test = X[:60000], X[60000:], y[:60000], y[60000:]\n",
    "\n",
    "y_train_5 = (y_train== '5')\n",
    "y_test_5 = (y_test== '5')\n",
    "\n",
    "sgd_clf = SGDClassifier(random_state=42)\n",
    "sgd_clf.fit(X_train,y_train_5)\n",
    "Arr = sgd_clf.predict(X_Test)\n",
    "\n",
    "\n",
    "# Defines a function to read through a boolean array and indicate which location returns a \"True\" value.\n",
    "def True_seeker(arr):\n",
    "  transitions = []\n",
    "  for i, val in enumerate(arr):\n",
    "    if val:\n",
    "      transitions.append(i)\n",
    "  return transitions\n",
    "\n",
    "transitions = True_seeker(Arr)\n",
    "print(transitions)\n",
    "\n",
    "sgd_clf.predict(X_Test[14:24])\n",
    "\n",
    "MNIST_PlotDigit(X_Test[15])\n",
    "#assert False, \"TODO: solve Qb, and remove me..\""
   ]
  },
  {
   "cell_type": "markdown",
   "metadata": {},
   "source": [
    "#### Qc Implement a dummy binary classifier\n",
    "\n",
    "Now we will try to create a Scikit-learn compatible estimator implemented via a python class. Follow the code found in [HOML], p.107 (for [HOML] 1st and 2nd editions: name you estimator `DummyClassifier` instead of `Never5Classifyer`).\n",
    "\n",
    "Here our Python class knowledge comes into play. The estimator class hierarchy looks like\n",
    "\n",
    "<img src=\"https://itundervisning.ase.au.dk/SWMAL/L02/Figs/class_base_estimator.png\" alt=\"WARNING: could not get image from server.\" style=\"width:500px\">\n",
    "\n",
    "All Scikit-learn classifiers inherit from `BaseEstimator` (and possibly also `ClassifierMixin`), and they must have a `fit-predict` function pair (strangely not in the base class!) and you can actually find the `sklearn.base.BaseEstimator` and `sklearn.base.ClassifierMixin` python source code somewhere in you anaconda install dir, if you should have the nerves to go to such interesting details.\n",
    "\n",
    "But surprisingly you may just want to implement a class that contains the `fit-predict` functions, ___without inheriting___ from the `BaseEstimator`, things still work due to the pythonic 'duck-typing': you just need to have the class implement the needed interfaces, obviously `fit()` and `predict()` but also the more obscure `get_params()` etc....then the class 'looks like' a `BaseEstimator`...and if it looks like an estimator, it _is_ an estimator (aka. duck typing).\n",
    "\n",
    "Templates in C++ also allow the language to use compile-time duck typing!\n",
    "\n",
    "> https://en.wikipedia.org/wiki/Duck_typing\n",
    "\n",
    "Call the fit-predict on a newly instantiated `DummyClassifier` object, and find a way to extract the accuracy `score` from the test data. You may implement an accuracy function yourself or just use the `sklearn.metrics.accuracy_score` function. \n",
    "\n",
    "Finally, compare the accuracy score from your `DummyClassifier` with the scores found in [HOML] \"Measuring Accuracy Using Cross-Validation\", p.107. Are they comparable? "
   ]
  },
  {
   "cell_type": "code",
   "execution_count": 59,
   "metadata": {},
   "outputs": [
    {
     "name": "stdout",
     "output_type": "stream",
     "text": [
      "Accuracy of DummyClassifier: 0.9259\n"
     ]
    }
   ],
   "source": [
    "# TODO: add your code here..\n",
    "from sklearn.base import BaseEstimator\n",
    "from sklearn.metrics import accuracy_score\n",
    "\n",
    "class DummyClassifier(BaseEstimator):\n",
    "\tdef fit(self, X, y=None):\n",
    "\t\tpass\n",
    "\tdef predict(self,X):\n",
    "\t\treturn np.zeros((len(X), 1), dtype=bool)\n",
    "\n",
    "# Instantiates the DummyClassifier\n",
    "Dummy_clf = DummyClassifier()\n",
    "\n",
    "pred = Dummy_clf.predict(X_Test)\n",
    "\n",
    "accuracy = accuracy_score(Arr,pred)\n",
    "\n",
    "print(\"Accuracy of DummyClassifier:\", accuracy)\n",
    "#assert False, \"TODO: solve Qc, and remove me..\""
   ]
  },
  {
   "cell_type": "markdown",
   "metadata": {},
   "source": [
    "### Qd Conclusion\n",
    "\n",
    "Now, conclude on all the exercise above. \n",
    "\n",
    "Write a short textual conclusion (max. 10- to 20-lines) that extract the _essence_ of the exercises: why did you think it was important to look at these particular ML concepts, and what was our overall learning outcome of the exercises (in broad terms)."
   ]
  },
  {
   "cell_type": "code",
   "execution_count": null,
   "metadata": {},
   "outputs": [],
   "source": [
    "# TODO: Qd concluding remarks in text.."
   ]
  },
  {
   "cell_type": "markdown",
   "metadata": {},
   "source": [
    "REVISIONS||\n",
    ":- | :- |\n",
    "2018-12-19| CEF, initial.                  \n",
    "2018-02-06| CEF, updated and spell checked. \n",
    "2018-02-08| CEF, minor text update.\n",
    "2018-03-05| CEF, updated with SHN comments.\n",
    "2019-09-02| CEF, updated for ITMAL v2.\n",
    "2019-09-04| CEF, updated and added conclusion Q.\n",
    "2020-01-25| CEF, F20 ITMAL update.\n",
    "2020-02-04| CEF, updated page numbers to HOMLv2.\n",
    "2020-09-03| CEF, E20 ITMAL update, udpated figs paths.\n",
    "2020-09-06| CEF, added alt text.\n",
    "2020-09-18| CEF, added binary-classifier text to Qb to emphasise 5/non-5 classification.\n",
    "2021-01-12| CEF, F21 ITMAL update, moved revision tabel.\n",
    "2021-08-02| CEF, update to E21 ITMAL.\n",
    "2022-01-25| CEF, update to F22 SWMAL.\n",
    "2023-02-07| CEF, update HOML page numbers.\n"
   ]
  }
 ],
 "metadata": {
  "kernelspec": {
   "display_name": "Python 3 (ipykernel)",
   "language": "python",
   "name": "python3"
  },
  "language_info": {
   "codemirror_mode": {
    "name": "ipython",
    "version": 3
   },
   "file_extension": ".py",
   "mimetype": "text/x-python",
   "name": "python",
   "nbconvert_exporter": "python",
   "pygments_lexer": "ipython3",
   "version": "3.11.8"
  },
  "varInspector": {
   "cols": {
    "lenName": 16,
    "lenType": 16,
    "lenVar": 40
   },
   "kernels_config": {
    "python": {
     "delete_cmd_postfix": "",
     "delete_cmd_prefix": "del ",
     "library": "var_list.py",
     "varRefreshCmd": "print(var_dic_list())"
    },
    "r": {
     "delete_cmd_postfix": ") ",
     "delete_cmd_prefix": "rm(",
     "library": "var_list.r",
     "varRefreshCmd": "cat(var_dic_list()) "
    }
   },
   "position": {
    "height": "144.517px",
    "left": "1230px",
    "right": "20px",
    "top": "119px",
    "width": "350px"
   },
   "types_to_exclude": [
    "module",
    "function",
    "builtin_function_or_method",
    "instance",
    "_Feature"
   ],
   "window_display": true
  }
 },
 "nbformat": 4,
 "nbformat_minor": 2
}
