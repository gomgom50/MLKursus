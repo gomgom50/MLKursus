{
 "cells": [
  {
   "cell_type": "code",
   "execution_count": 78,
   "metadata": {},
   "outputs": [],
   "source": [
    "import numpy as np\n",
    "import matplotlib.pyplot as plt\n",
    "\n",
    "class MyLinReg:\n",
    "\n",
    "# __init__ is the computerpower of this class\n",
    "\n",
    "    def __init__(self, max_iter=1000, eta0=0.01):\n",
    "        self.max_iter = max_iter\n",
    "        self.eta0 = eta0\n",
    "        self.intercept_ = None\n",
    "        self.coef_ = None\n",
    "\n",
    "# Our weights is our manipulated data through each iteration.\n",
    "# However, they need a call before they can be initialize. Hence this function.\n",
    "    def _initialize_weights(self, n_features):\n",
    "        self.intercept_ = 0.0\n",
    "        self.coef_ = np.zeros(n_features)\n",
    "\n",
    "    def _compute_gradients(self, X, y):\n",
    "        n_samples = X.shape[0]                             \n",
    "        predictions = self.intercept_ + np.dot(X, self.coef_)\n",
    "        error = y - predictions\n",
    "        grad_intercept = -2 * np.mean(error) \n",
    "        grad_coef = -2 * np.dot(X.T, error) / n_samples\n",
    "\n",
    "        print(f\"This is our interception: {self.intercept_}\")\n",
    "        print(f\"This is our coefficient: {self.coef_}\")\n",
    "        print(\"-----\")\n",
    "        print(f\"This is the amount of samples we have in our data: {n_samples} & {y}\")\n",
    "        print(f\"This is our predictions, our linear line: {predictions} & {np.dot(X, self.coef_)} \")\n",
    "        print(f\"This is the error between our predicted value and the y-data points: {error}\")\n",
    "        print(f\"This is the gradient of our constant: {grad_intercept}\")\n",
    "        print(f\"This is the gradient of our coefficient: {grad_coef}\")\n",
    "        print(\"\")\n",
    "        return grad_intercept, grad_coef\n",
    "\n",
    "\n",
    "# When we fit our data we run through every iteration.\n",
    "# First time we run through it our intercept and coefficient is o.\n",
    "# However for each iteration our last gradient intercept and coefficient is our new intercept and coefficient that is surpassed to all functions using the variable.\n",
    "\n",
    "    def fit(self, X, y):\n",
    "        self._initialize_weights(X.shape[1])\n",
    "        for i in range(self.max_iter):                    # iterates over the entered amount entered itertions.\n",
    "            print(f\"This is iteration {i+1}\")\n",
    "            grad_intercept, grad_coef = self._compute_gradients(X, y)\n",
    "            self.intercept_ -= self.eta0 * grad_intercept # Learning rate multiplied by the gradient of our intercept [a + x * b] => gradient(a) -> Creating a new intercept\n",
    "            self.coef_ -= self.eta0 * grad_coef           # Learning rate multiplied by the gradient of our coefficient [a + x * b] => gradient(b) -> Creating a new coefficient\n",
    "\n",
    "# Our prediction is our y-point data from our guess: y_pred = a + x * c\n",
    "# Each call will contain new intercepts and new coefficients\n",
    "    def predict(self, X):\n",
    "        return self.intercept_ + np.dot(X, self.coef_)\n",
    "\n",
    "    def score(self, X, y):\n",
    "        predictions = self.predict(X)\n",
    "        u = ((y - predictions) ** 2).sum() \n",
    "        v = ((y - y.mean()) ** 2).sum()    \n",
    "        return [1 - u / v, u, v]"
   ]
  },
  {
   "cell_type": "code",
   "execution_count": 80,
   "metadata": {},
   "outputs": [
    {
     "name": "stdout",
     "output_type": "stream",
     "text": [
      "This is interation 1\n",
      "This is our interception: 0.0\n",
      "This is our coefficient: [0.]\n",
      "-----\n",
      "This is the amount of samples we have in our data: 4 & [5.97396028 7.24897834 4.86609388 3.51245674]\n",
      "This is our predictions, our linear line: [0. 0. 0. 0.] & [0. 0. 0. 0.] \n",
      "This is the error between our predicted value and the y-data points: [5.97396028 7.24897834 4.86609388 3.51245674]\n",
      "This is the gradient of our constant: -10.800744620000001\n",
      "This is the gradient of our coefficient: [-8.77537619]\n",
      "\n",
      "This is interation 2\n",
      "This is our interception: 4.320297848000001\n",
      "This is our coefficient: [3.51015048]\n",
      "-----\n",
      "This is the amount of samples we have in our data: 4 & [5.97396028 7.24897834 4.86609388 3.51245674]\n",
      "This is our predictions, our linear line: [7.24791782 9.37719259 4.32110079 6.4427635 ] & [2.92761998e+00 5.05689474e+00 8.02945640e-04 2.12246565e+00] \n",
      "This is the error between our predicted value and the y-data points: [-1.27395754 -2.12821425  0.54499309 -2.93030676]\n",
      "This is the gradient of our constant: 2.8937427306428196\n",
      "This is the gradient of our coefficient: [2.95013803]\n",
      "\n",
      "This is interation 3\n",
      "This is our interception: 3.162800755742873\n",
      "This is our coefficient: [2.33009527]\n",
      "-----\n",
      "This is the amount of samples we have in our data: 4 & [5.97396028 7.24897834 4.86609388 3.51245674]\n",
      "This is our predictions, our linear line: [5.10620275 6.51965015 3.16333376 4.57172815] & [1.94340200e+00 3.35684939e+00 5.33008442e-04 1.40892739e+00] \n",
      "This is the error between our predicted value and the y-data points: [ 0.86775753  0.72932819  1.70276012 -1.05927141]\n",
      "This is the gradient of our constant: -1.1202872139960378\n",
      "This is the gradient of our coefficient: [-0.56716945]\n",
      "\n",
      "This is interation 4\n",
      "This is our interception: 3.610915641341288\n",
      "This is our coefficient: [2.55696305]\n",
      "-----\n",
      "This is the amount of samples we have in our data: 4 & [5.97396028 7.24897834 4.86609388 3.51245674]\n",
      "This is our predictions, our linear line: [5.74353535 7.29460187 3.61150055 5.15702207] & [2.13261971e+00 3.68368623e+00 5.84904363e-04 1.54610643e+00] \n",
      "This is the error between our predicted value and the y-data points: [ 0.23042493 -0.04562353  1.25459333 -1.64456533]\n",
      "This is the gradient of our constant: 0.10258529937918803\n",
      "This is the gradient of our coefficient: [0.43383365]\n",
      "\n"
     ]
    },
    {
     "data": {
      "text/plain": [
       "0.45260799807744334"
      ]
     },
     "metadata": {},
     "output_type": "display_data"
    },
    {
     "data": {
      "text/plain": [
       "[<matplotlib.lines.Line2D at 0x20b9802a850>]"
      ]
     },
     "execution_count": 80,
     "metadata": {},
     "output_type": "execute_result"
    },
    {
     "data": {
      "image/png": "[encoded data removed]",
      "text/plain": [
       "<Figure size 640x480 with 1 Axes>"
      ]
     },
     "metadata": {},
     "output_type": "display_data"
    }
   ],
   "source": [
    "import matplotlib.pyplot as plt\n",
    "def GenerateData():\n",
    "    X = np.array([[8.34044009e-01],[1.44064899e+00],[2.28749635e-04],[6.04665145e-01]])\n",
    "    y = np.array([5.97396028, 7.24897834, 4.86609388, 3.51245674])\n",
    "    return X, y\n",
    "\n",
    "X, y = GenerateData()\n",
    "\n",
    "model = MyLinReg(4,0.4)\n",
    "model.fit(X,y)\n",
    "model.predict(X)\n",
    "model.score(X,y)\n",
    "display(model.score(X,y)[0])\n",
    "plt.scatter(X,y)\n",
    "plt.plot(list(range(0,3)), [model.score(X,y)[1] + x * model.score(X,y)[2] for x in range(0,3)])"
   ]
  },
  {
   "cell_type": "code",
   "execution_count": 77,
   "metadata": {},
   "outputs": [
    {
     "data": {
      "text/latex": [
       "$\\displaystyle \\frac{2 x \\left(b + m x - y\\right)}{n}$"
      ],
      "text/plain": [
       "2*x*(b + m*x - y)/n"
      ]
     },
     "metadata": {},
     "output_type": "display_data"
    },
    {
     "data": {
      "text/latex": [
       "$\\displaystyle \\frac{2 b + 2 m x - 2 y}{n}$"
      ],
      "text/plain": [
       "(2*b + 2*m*x - 2*y)/n"
      ]
     },
     "metadata": {},
     "output_type": "display_data"
    }
   ],
   "source": [
    "import sympy as sp\n",
    "x, y, m, b, n, p = sp.symbols(\"x y m b n p\")\n",
    "\n",
    "a = (1/n) * ((m * x + b) - y)**2\n",
    "tt = sp.diff(a,m)\n",
    "c = sp.diff(a,b)\n",
    "display(sp.simplify(tt),c)"
   ]
  },
  {
   "cell_type": "code",
   "execution_count": null,
   "metadata": {},
   "outputs": [],
   "source": []
  }
 ],
 "metadata": {
  "kernelspec": {
   "display_name": "Python 3",
   "language": "python",
   "name": "python3"
  },
  "language_info": {
   "codemirror_mode": {
    "name": "ipython",
    "version": 3
   },
   "file_extension": ".py",
   "mimetype": "text/x-python",
   "name": "python",
   "nbconvert_exporter": "python",
   "pygments_lexer": "ipython3",
   "version": "3.11.8"
  }
 },
 "nbformat": 4,
 "nbformat_minor": 2
}
