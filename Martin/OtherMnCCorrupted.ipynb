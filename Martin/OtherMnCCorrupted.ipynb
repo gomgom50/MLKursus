{
 "cells": [
  {
   "cell_type": "markdown",
   "metadata": {},
   "source": [
    "# SWMAL Exercise\n",
    "\n",
    "## Python Basics\n",
    "\n",
    "### Modules and Packages in Python\n",
    "\n",
    "Reuse of code in Jupyter notebooks can be done by either including a raw python source as a magic command\n",
    "\n",
    "```python\n",
    "%load filename.py\n",
    "```\n",
    "but this just pastes the source into the notebook and creates all kinds of pains regarding code maintenance.\n",
    "\n",
    "A better way is to use a python __module__. A module consists simply (and pythonic) of a directory with a module init file in it (possibly empty) \n",
    "```python\n",
    "libitmal/__init__.py\n",
    "```\n",
    "To this directory you can add modules in form of plain python files, say\n",
    "```python\n",
    "libitmal/utils.py\n",
    "```\n",
    "That's about it! The `libitmal` file tree should now look like\n",
    "```\n",
    "libitmal/\n",
    "├── __init__.py\n",
    "├── __pycache__\n",
    "│   ├── __init__.cpython-36.pyc\n",
    "│   └── utils.cpython-36.pyc\n",
    "├── utils.py\n",
    "```\n",
    "with the cache part only being present once the module has been initialized.\n",
    "\n",
    "You should now be able to use the `libitmal` unit via an import directive, like\n",
    "```python\n",
    "import numpy as np\n",
    "from libitmal import utils as itmalutils\n",
    "\n",
    "print(dir(itmalutils))\n",
    "print(itmalutils.__file__)\n",
    "\n",
    "X = np.array([[1,2],[3,-100]])\n",
    "itmalutils.PrintMatrix(X,\"mylabel=\")\n",
    "itmalutils.TestAll()\n",
    "```\n",
    "\n",
    "#### Qa Load and test the `libitmal` module\n",
    "\n",
    "Try out the `libitmal` module from [GITMAL]. Load this module and run the function\n",
    "\n",
    "```python\n",
    "from libitmal import utils as itmalutils\n",
    "itmalutils.TestAll()\n",
    "```\n",
    "from this module.\n",
    "\n",
    "##### Implementation details\n",
    "\n",
    "Note that there is a python module ___include___ search path, that you may have to investigate and modify. For my Linux setup I have an export or declare statement in my .bashrc file, like\n",
    "\n",
    "```bash\n",
    "declare -x PYTHONPATH=~/ASE/ML/itmal:$PYTHONPATH\n",
    "```\n",
    "but your ```itmal```, the [GITMAL] root dir, may be placed elsewhere.\n",
    "\n",
    "For ___Windows___, you have to add `PYTHONPATH` to your user environment variables...see screenshot below (enlarge by modding the image width-tag or find the original png in the Figs directory).\n",
    "\n",
    "<img src=\"https://itundervisning.ase.au.dk/SWMAL/L01/Figs/Screenshot_windows_enviroment_variables.png\" alt=\"WARNING: could not get image from server.\" style=\"height:250px\" style=\"width:350px\">\n",
    "\n",
    "but notice that for this to take effect, you need to restart Anaconda or perhaps even reboot your Windows OS! An alternative, not requiring restart is to use a CMD prompt and the following command under Windows\n",
    "\n",
    "```bash\n",
    "CMD> setx.exe PYTHONPATH \"C:\\Users\\auXXYYZZ\\itmal\"\n",
    "```\n",
    "\n",
    "replacing the username and path with whatever you have. Note that some Windows installations have various security settings enables, so that running `setx.exe` fails. Setting up a MAC should be similar to Linux; just modify your `PYTHONPATH` setting (still to be proven correct?, CEF). \n",
    "\n",
    "\n",
    "If everything fails you could programmatically add your path to the libitmal directory as\n",
    "\n",
    "```python\n",
    "import sys,os\n",
    "sys.path.append(os.path.expanduser('~/itmal'))\n",
    "\n",
    "from libitmal import utils as itmalutils\n",
    "print(dir(itmalutils))\n",
    "print(itmalutils.__file__)\n",
    "```\n",
    "\n",
    "For the journal: remember to document your particular PATH setup."
   ]
  },
  {
   "cell_type": "code",
   "execution_count": 30,
   "metadata": {},
   "outputs": [
    {
     "name": "stdout",
     "output_type": "stream",
     "text": [
      "TestPrintMatrix...(no regression testing)\n",
      "X=[[   1.    2.]\n",
      "   [   3. -100.]\n",
      "   [   1.   -1.]]\n",
      "X=[[ 1.  2.]\n",
      "   ...\n",
      "   [ 1. -1.]]\n",
      "X=[[   1.\n",
      "       2.    ]\n",
      "   [   3.0001\n",
      "    -100.    ]\n",
      "   [   1.\n",
      "      -1.    ]]\n",
      "X=[[   1.    2.]\n",
      "   [   3. -100.]\n",
      "   [   1.   -1.]]\n",
      "OK\n",
      "TEST: OK\n",
      "ALL OK\n",
      "['AssertInRange', 'CheckFloat', 'DToXy', 'GenerateConfusionMatrix', 'GenerateResults', 'InRange', 'Iterable', 'ListToMatrix', 'ListToVector', 'PrintMatrix', 'ResetRandom', 'ShowResult', 'TEST', 'TestAll', 'TestCheckFloat', 'TestPrintMatrix', 'TestVarName', 'VarName', 'XyToD', '__builtins__', '__cached__', '__doc__', '__file__', '__loader__', '__name__', '__package__', '__spec__', '__warningregistry__', 'ctxlib', 'inf', 'inspect', 'isFloat', 'isList', 'isNumpyArray', 'nan', 'np', 'random', 're', 'sklearn']\n",
      "c:\\Users\\45201\\OneDrive\\Uni\\6_Semester\\ML\\MLKursus\\Martin\\..\\UndervisningsGit\\GITMAL\\libitmal\\utils.py\n"
     ]
    }
   ],
   "source": [
    "# TODO: Qa...\n",
    "import sys,os\n",
    "#sys.path.append(R'C:\\Users\\45201\\OneDrive\\Uni\\6_Semester\\ML\\MLKursus\\UndervisningsGit\\GITMAL')\n",
    "sys.path.append(R'..\\UndervisningsGit\\GITMAL')\n",
    "from libitmal import utils as itmalutils\n",
    "itmalutils.TestAll()\n",
    "print(dir(itmalutils))\n",
    "print(itmalutils.__file__)"
   ]
  },
  {
   "cell_type": "markdown",
   "metadata": {},
   "source": [
    "#### Qb Create your own module, with some functions, and test it\n",
    "\n",
    "Now create your own module, with some dummy functionality. Load it and run you dummy function in a Jupyter Notebook.\n",
    "\n",
    "Keep this module at hand, when coding, and try to capture reusable python functions in it as you invent them!\n",
    "\n",
    "For the journal: remember to document your particular library setup (where di# TODO: Qb...\n",
    "import sys,os\n",
    "sys.path.append(R'C:\\Users\\45201\\OneDrive\\Uni\\6_Semester\\ML\\MLKursus\\Martin\\O1')\n",
    "from O2_Qb import Test_Module as QB\n",
    "\n",
    "print(dir(QB))\n",
    "print(QB.__file__)\n",
    "\n",
    "print()\n",
    "\n",
    "# Testing function AOR in module\n",
    "## Function should return area of a square or rectangle\n",
    "A = 12\n",
    "B = 8\n",
    "print(QB.AOR(A,B))\n",
    "\n",
    "print()\n",
    "\n",
    "# Tesing function HappyDog\n",
    "## Function should return a good boi\n",
    "print(QB.HappyDog())d you place files, etc)."
   ]
  },
  {
   "cell_type": "code",
   "execution_count": 9,
   "metadata": {},
   "outputs": [
    {
     "name": "stdout",
     "output_type": "stream",
     "text": [
      "['AOR', 'HappyDog', '__builtins__', '__cached__', '__doc__', '__file__', '__loader__', '__name__', '__package__', '__spec__', 'test']\n",
      "C:\\Users\\45201\\OneDrive\\Uni\\6_Semester\\ML\\MLKursus\\Martin\\O1\\O2_Qb\\Test_Module.py\n",
      "\n",
      "96\n",
      "\n",
      "\n",
      "  / \\__\n",
      " (    @\\___\n",
      " /         O\n",
      "/   (_____/\n",
      "/_____/   U\n",
      "\t\n",
      "None\n"
     ]
    }
   ],
   "source": [
    "# TODO: Qb...\n",
    "import sys,os\n",
    "sys.path.append(R'C:\\Users\\45201\\OneDrive\\Uni\\6_Semester\\ML\\MLKursus\\Martin\\O1')\n",
    "from O2_Qb import Test_Module as QB\n",
    "\n",
    "print(dir(QB))\n",
    "print(QB.__file__)\n",
    "\n",
    "print()\n",
    "\n",
    "# Testing function AOR in module\n",
    "## Function should return area of a square or rectangle\n",
    "A = 12\n",
    "B = 8\n",
    "print(QB.AOR(A,B))\n",
    "\n",
    "print()\n",
    "\n",
    "# Tesing function HappyDog\n",
    "## Function should return a good boi\n",
    "print(QB.HappyDog())"
   ]
  },
  {
   "cell_type": "markdown",
   "metadata": {},
   "source": [
    "#### Qc How do you 'recompile' a module?\n",
    "\n",
    "When changing the module code, Jupyter will keep running on the old module. How do you force the Jupyter notebook to re-load the module changes? \n",
    "\n",
    "NOTE: There is a surprising issue regarding module reloads in Jupyter notebooks. If you use another development framework, like Spyder or Visual Studio Code, module reloading works out-of-the-box. "
   ]
  },
  {
   "cell_type": "code",
   "execution_count": 10,
   "metadata": {},
   "outputs": [
    {
     "data": {
      "text/plain": [
       "<module 'O2_Qb.Test_Module' from 'C:\\\\Users\\\\45201\\\\OneDrive\\\\Uni\\\\6_Semester\\\\ML\\\\MLKursus\\\\Martin\\\\O1\\\\O2_Qb\\\\Test_Module.py'>"
      ]
     },
     "execution_count": 10,
     "metadata": {},
     "output_type": "execute_result"
    }
   ],
   "source": [
    "# TODO: Qc...\n",
    "## There is a built-in reload function in the \"importlib\"-package\n",
    "## Caling the importlib.reload(#ModuleName) will recall the module and recall the lastest version.\n",
    "## For our created modules it could be called like so:\n",
    "import importlib\n",
    "\n",
    "importlib.reload(QB)"
   ]
  },
  {
   "cell_type": "markdown",
   "metadata": {},
   "source": [
    "### Classes in Python\n",
    "\n",
    "Good news: Python got classes. Bad news: they are somewhat obscure compared to C++ classes. \n",
    "\n",
    "Though we will not use object-oriented programming in Python intensively, we still need some basic understanding of Python classes. Let's just dig into a class-demo, here is `MyClass` in Python\n",
    "\n",
    "```python\n",
    "class MyClass:\n",
    "   \n",
    "    def myfun(self):\n",
    "        self.myvar = \"blah\" # NOTE: a per class-instance variable.\n",
    "        print(f\"This is a message inside the class, myvar={self.myvar}.\")\n",
    "\n",
    "myobjectx = MyClass()\n",
    "```\n",
    "\n",
    "NOTE: The following exercise assumes some C++ knowledge, in particular the OPRG and OOP courses. If you are an EE-student, or from another Faculty, then ignore the cryptic C++ comments, and jump directly to some Python code instead. It's the Python solution here, that is important!\n",
    "\n",
    "#### Qe Extend the class with some public and private functions and member variables\n",
    "\n",
    "How are private function and member variables represented in python classes? \n",
    "\n",
    "What is the meaning of `self` in python classes?\n",
    "\n",
    "What happens to a function inside a class if you forget `self` in the parameter list, like `def myfun():` instead of `def myfun(self):` and you try to call it like `myobjectx.myfun()`? Remember to document the demo code and result.\n",
    "\n",
    "\n",
    "[OPTIONAL] What does 'class' and 'instance variables' in python correspond to in C++? Maybe you can figure it out, I did not really get it reading, say this tutorial\n",
    "\n",
    "> https://www.digitalocean.com/community/tutorials/understanding-class-and-instance-variables-in-python-3"
   ]
  },
  {
   "cell_type": "code",
   "execution_count": 47,
   "metadata": {},
   "outputs": [
    {
     "name": "stdout",
     "output_type": "stream",
     "text": [
      "This is a message inside the class, myvar=blah.\n"
     ]
    },
    {
     "ename": "TypeError",
     "evalue": "MyClass_2.myfun1() missing 1 required positional argument: 'x'",
     "output_type": "error",
     "traceback": [
      "\u001b[1;31m---------------------------------------------------------------------------\u001b[0m",
      "\u001b[1;31mTypeError\u001b[0m                                 Traceback (most recent call last)",
      "Cell \u001b[1;32mIn[47], line 48\u001b[0m\n\u001b[0;32m     44\u001b[0m         \u001b[38;5;28mprint\u001b[39m(\u001b[38;5;124mf\u001b[39m\u001b[38;5;124m\"\u001b[39m\u001b[38;5;124mThis is a message inside the class, myvar=\u001b[39m\u001b[38;5;132;01m{\u001b[39;00mmyvar\u001b[38;5;132;01m}\u001b[39;00m\u001b[38;5;124m.\u001b[39m\u001b[38;5;124m\"\u001b[39m)\n\u001b[0;32m     46\u001b[0m myobjectxs \u001b[38;5;241m=\u001b[39m MyClass_2\n\u001b[1;32m---> 48\u001b[0m \u001b[43mmyobjectxs\u001b[49m\u001b[38;5;241;43m.\u001b[39;49m\u001b[43mmyfun1\u001b[49m\u001b[43m(\u001b[49m\u001b[43m)\u001b[49m\n",
      "\u001b[1;31mTypeError\u001b[0m: MyClass_2.myfun1() missing 1 required positional argument: 'x'"
     ]
    }
   ],
   "source": [
    "# TODO: Qe...\n",
    "\n",
    "\"\"\"\n",
    "-- How are private function and member variables represented in python classes?\n",
    "In python functions can be made \"private\" by prefixing them with a underscore. \n",
    "Forexample in a class a single underscore infront of the function name indicates \n",
    "that the function is intended for internal use only and should not be accessed outside of the class.\n",
    "Another use of underscores could be a double underscore infront and after the function name.\n",
    "This servers as a signal for developers that the variable is not part of the public interface but should rather be treated as a private function within the class.\n",
    "\n",
    "\n",
    "-- What is the meaning of `self` in python classes?\n",
    "The self instance refers to the class it self. \n",
    "This is usally done through an \"__init__\" function that takes self as first parameter with other parameters refering to the class.\n",
    "This makes it possible to modify the input object's properties and create senarious that is unique to the input. \n",
    "\n",
    "\"\"\"\n",
    "\n",
    "class MyClass:\n",
    "   \n",
    "    def myfun(self):\n",
    "        self.myvar = \"blah\" # NOTE: a per class-instance variable.\n",
    "        print(f\"This is a message inside the class, myvar={self.myvar}.\")\n",
    "\n",
    "myobjectx = MyClass()\n",
    "myobjectx.myfun()\n",
    "\n",
    "\"\"\"\n",
    "The above copy-paste of the questions code snippet will initiate it 'self'.\n",
    "It is used to acces the objects (in this case the class) attributes and methods depeding on the setup of the code.\n",
    "\n",
    "When the object does not inheirate the self attribute/the self call making the call:\n",
    "- myobjectx.myfun()\n",
    "Will return a TypeError saying the object wanted zero attribute where one was given.\n",
    "Removing the bracets at the call like so: myobjectx.myfun, will initiate the defined function myfun.\n",
    "\"\"\"\n",
    "\n",
    "\n",
    "\n",
    "class MyClass_2:\n",
    "   \n",
    "    def myfun1(x):\n",
    "        myvar = \"blah\" # NOTE: a per class-instance variable.\n",
    "        print(f\"This is a message inside the class, myvar={myvar}.\")\n",
    "\n",
    "myobjectxs = MyClass_2\n",
    "\n",
    "myobjectxs.myfun1()"
   ]
  },
  {
   "cell_type": "markdown",
   "metadata": {},
   "source": [
    "#### Qf Extend the class with a Constructor\n",
    "\n",
    "Figure a way to declare/define a constructor (CTOR) in a python class. How is it done in python?\n",
    "\n",
    "Is there a class destructor in python (DTOR)? Give a textual reason why/why-not python has a DTOR?\n",
    "\n",
    "Hint: python is garbage collection like in C#, and do not go into the details of `__del__, ___enter__, __exit__` functions...unless you find it irresistible to investigate."
   ]
  },
  {
   "cell_type": "code",
   "execution_count": 31,
   "metadata": {},
   "outputs": [
    {
     "name": "stdout",
     "output_type": "stream",
     "text": [
      "Alex is currently really on his third redelivery. He has such high hopes that third time is a charm as they say. He really does love Math.\n"
     ]
    },
    {
     "data": {
      "text/plain": [
       "'\\nPython does not contain a class destructor as so.\\nIf for example a filehandler class was made a function within the class could be made that closes the file.\\n'"
      ]
     },
     "execution_count": 31,
     "metadata": {},
     "output_type": "execute_result"
    }
   ],
   "source": [
    "# TODO: Qf...\n",
    "\"\"\"\n",
    "Within a class a contructor is used to garbage collect attributes.\n",
    "For example:\n",
    "\"\"\"\n",
    "class university:\n",
    "\tdef __init__(self, student, major):\n",
    "\t\tself.student = student\n",
    "\t\tself.major = major\n",
    "\n",
    "\tdef reg(self):\n",
    "\t\tprint(f\"{self.student} is currently really on his third redelivery. He has such high hopes that third time is a charm as they say. He really does love {self.major}.\")\n",
    "\n",
    "#x = university(\"Alex\",\"SWMAL\") #Collecting\n",
    "#x.reg() \n",
    "\n",
    "university('Alex', 'Math').reg()\n",
    "\n",
    "\"\"\"\n",
    "Python does not contain a class destructor as so.\n",
    "If for example a filehandler class was made a function within the class could be made that closes the file.\n",
    "\"\"\"\n",
    "\n"
   ]
  },
  {
   "cell_type": "code",
   "execution_count": null,
   "metadata": {},
   "outputs": [],
   "source": []
  }
 ],
 "metadata": {
  "kernelspec": {
   "display_name": "Python 3",
   "language": "python",
   "name": "python3"
  },
  "language_info": {
   "codemirror_mode": {
    "name": "ipython",
    "version": 3
   },
   "file_extension": ".py",
   "mimetype": "text/x-python",
   "name": "python",
   "nbconvert_exporter": "python",
   "pygments_lexer": "ipython3",
   "version": "3.11.8"
  }
 },
 "nbformat": 4,
 "nbformat_minor": 2
}
