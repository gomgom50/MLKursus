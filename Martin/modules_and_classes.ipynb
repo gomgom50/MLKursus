{
 "cells": [
  {
   "cell_type": "markdown",
   "metadata": {},
   "source": [
    "# SWMAL Exercise\n",
    "\n",
    "## Python Basics\n",
    "\n",
    "### Modules and Packages in Python\n",
    "\n",
    "Reuse of code in Jupyter notebooks can be done by either including a raw python source as a magic command\n",
    "\n",
    "```python\n",
    "%load filename.py\n",
    "```\n",
    "but this just pastes the source into the notebook and creates all kinds of pains regarding code maintenance.\n",
    "\n",
    "A better way is to use a python __module__. A module consists simply (and pythonic) of a directory with a module init file in it (possibly empty) \n",
    "```python\n",
    "libitmal/__init__.py\n",
    "```\n",
    "To this directory you can add modules in form of plain python files, say\n",
    "```python\n",
    "libitmal/utils.py\n",
    "```\n",
    "That's about it! The `libitmal` file tree should now look like\n",
    "```\n",
    "libitmal/\n",
    "├── __init__.py\n",
    "├── __pycache__\n",
    "│   ├── __init__.cpython-36.pyc\n",
    "│   └── utils.cpython-36.pyc\n",
    "├── utils.py\n",
    "```\n",
    "with the cache part only being present once the module has been initialized.\n",
    "\n",
    "You should now be able to use the `libitmal` unit via an import directive, like\n",
    "```python\n",
    "import numpy as np\n",
    "from libitmal import utils as itmalutils\n",
    "\n",
    "print(dir(itmalutils))\n",
    "print(itmalutils.__file__)\n",
    "\n",
    "X = np.array([[1,2],[3,-100]])\n",
    "itmalutils.PrintMatrix(X,\"mylabel=\")\n",
    "itmalutils.TestAll()\n",
    "```\n",
    "\n",
    "#### Qa Load and test the `libitmal` module\n",
    "\n",
    "Try out the `libitmal` module from [GITMAL]. Load this module and run the function\n",
    "\n",
    "```python\n",
    "from libitmal import utils as itmalutils\n",
    "itmalutils.TestAll()\n",
    "```\n",
    "from this module.\n",
    "\n",
    "##### Implementation details\n",
    "\n",
    "Note that there is a python module ___include___ search path, that you may have to investigate and modify. For my Linux setup I have an export or declare statement in my .bashrc file, like\n",
    "\n",
    "```bash\n",
    "declare -x PYTHONPATH=~/ASE/ML/itmal:$PYTHONPATH\n",
    "```\n",
    "but your ```itmal```, the [GITMAL] root dir, may be placed elsewhere.\n",
    "\n",
    "For ___Windows___, you have to add `PYTHONPATH` to your user environment variables...see screenshot below (enlarge by modding the image width-tag or find the original png in the Figs directory).\n",
    "\n",
    "<img src=\"https://itundervisning.ase.au.dk/SWMAL/L01/Figs/Screenshot_windows_enviroment_variables.png\" alt=\"WARNING: could not get image from server.\" style=\"height:250px\" style=\"width:350px\">\n",
    "\n",
    "but notice that for this to take effect, you need to restart Anaconda or perhaps even reboot your Windows OS! An alternative, not requiring restart is to use a CMD prompt and the following command under Windows\n",
    "\n",
    "```bash\n",
    "CMD> setx.exe PYTHONPATH \"C:\\Users\\auXXYYZZ\\itmal\"\n",
    "```\n",
    "\n",
    "replacing the username and path with whatever you have. Note that some Windows installations have various security settings enables, so that running `setx.exe` fails. Setting up a MAC should be similar to Linux; just modify your `PYTHONPATH` setting (still to be proven correct?, CEF). \n",
    "\n",
    "\n",
    "If everything fails you could programmatically add your path to the libitmal directory as\n",
    "\n",
    "```python\n",
    "import sys,os\n",
    "sys.path.append(os.path.expanduser('~/itmal'))\n",
    "\n",
    "from libitmal import utils as itmalutils\n",
    "print(dir(itmalutils))\n",
    "print(itmalutils.__file__)\n",
    "```\n",
    "\n",
    "For the journal: remember to document your particular PATH setup."
   ]
  },
  {
   "cell_type": "code",
   "execution_count": 1,
   "metadata": {},
   "outputs": [
    {
     "ename": "ModuleNotFoundError",
     "evalue": "No module named 'libitmal'",
     "output_type": "error",
     "traceback": [
      "\u001B[1;31m---------------------------------------------------------------------------\u001B[0m",
      "\u001B[1;31mModuleNotFoundError\u001B[0m                       Traceback (most recent call last)",
      "Cell \u001B[1;32mIn[1], line 5\u001B[0m\n\u001B[0;32m      2\u001B[0m \u001B[38;5;28;01mimport\u001B[39;00m \u001B[38;5;21;01msys\u001B[39;00m\u001B[38;5;241m,\u001B[39m\u001B[38;5;21;01mos\u001B[39;00m\n\u001B[0;32m      3\u001B[0m sys\u001B[38;5;241m.\u001B[39mpath\u001B[38;5;241m.\u001B[39mappend(\u001B[38;5;124mR\u001B[39m\u001B[38;5;124m'\u001B[39m\u001B[38;5;124m../ML/MLKursus/UndervisningsGit/GITMAL/\u001B[39m\u001B[38;5;124m'\u001B[39m)\n\u001B[1;32m----> 5\u001B[0m \u001B[38;5;28;01mfrom\u001B[39;00m \u001B[38;5;21;01mlibitmal\u001B[39;00m \u001B[38;5;28;01mimport\u001B[39;00m utils \u001B[38;5;28;01mas\u001B[39;00m itmalutils\n\u001B[0;32m      6\u001B[0m \u001B[38;5;28mprint\u001B[39m(\u001B[38;5;28mdir\u001B[39m(itmalutils))\n\u001B[0;32m      7\u001B[0m \u001B[38;5;28mprint\u001B[39m(itmalutils\u001B[38;5;241m.\u001B[39m\u001B[38;5;18m__file__\u001B[39m)\n",
      "\u001B[1;31mModuleNotFoundError\u001B[0m: No module named 'libitmal'"
     ]
    }
   ],
   "source": [
    "# TODO: Qa...\n",
    "import sys,os\n",
    "sys.path.append(R'../ML/MLKursus/UndervisningsGit/GITMAL/')\n",
    "\n",
    "from libitmal import utils as itmalutils\n",
    "print(dir(itmalutils))\n",
    "print(itmalutils.__file__)"
   ]
  },
  {
   "cell_type": "markdown",
   "metadata": {},
   "source": [
    "#### Qb Create your own module, with some functions, and test it\n",
    "\n",
    "Now create your own module, with some dummy functionality. Load it and run you dummy function in a Jupyter Notebook.\n",
    "\n",
    "Keep this module at hand, when coding, and try to capture reusable python functions in it as you invent them!\n",
    "\n",
    "For the journal: remember to document your particular library setup (where did you place files, etc)."
   ]
  },
  {
   "cell_type": "code",
   "execution_count": 2,
   "metadata": {},
   "outputs": [
    {
     "ename": "ModuleNotFoundError",
     "evalue": "No module named 'O2_Qb'",
     "output_type": "error",
     "traceback": [
      "\u001B[1;31m---------------------------------------------------------------------------\u001B[0m",
      "\u001B[1;31mModuleNotFoundError\u001B[0m                       Traceback (most recent call last)",
      "Cell \u001B[1;32mIn[2], line 4\u001B[0m\n\u001B[0;32m      2\u001B[0m \u001B[38;5;28;01mimport\u001B[39;00m \u001B[38;5;21;01msys\u001B[39;00m\u001B[38;5;241m,\u001B[39m\u001B[38;5;21;01mos\u001B[39;00m\n\u001B[0;32m      3\u001B[0m sys\u001B[38;5;241m.\u001B[39mpath\u001B[38;5;241m.\u001B[39mappend(\u001B[38;5;124mR\u001B[39m\u001B[38;5;124m'\u001B[39m\u001B[38;5;124m..\u001B[39m\u001B[38;5;124m\\\u001B[39m\u001B[38;5;124mO1\u001B[39m\u001B[38;5;124m'\u001B[39m)\n\u001B[1;32m----> 4\u001B[0m \u001B[38;5;28;01mfrom\u001B[39;00m \u001B[38;5;21;01mO2_Qb\u001B[39;00m \u001B[38;5;28;01mimport\u001B[39;00m Test_Module \u001B[38;5;28;01mas\u001B[39;00m QB\n\u001B[0;32m      6\u001B[0m \u001B[38;5;28mprint\u001B[39m(\u001B[38;5;28mdir\u001B[39m(QB))\n\u001B[0;32m      7\u001B[0m \u001B[38;5;28mprint\u001B[39m(QB\u001B[38;5;241m.\u001B[39m\u001B[38;5;18m__file__\u001B[39m)\n",
      "\u001B[1;31mModuleNotFoundError\u001B[0m: No module named 'O2_Qb'"
     ]
    }
   ],
   "source": [
    "# TODO: Qb...\n",
    "import sys,os\n",
    "sys.path.append(R'..\\O1')\n",
    "from O2_Qb import Test_Module as QB\n",
    "\n",
    "print(dir(QB))\n",
    "print(QB.__file__)\n",
    "\n",
    "print()\n",
    "\n",
    "# Testing function AOR in module\n",
    "## Function should return area of a square or rectangle\n",
    "A = 12\n",
    "B = 8\n",
    "print(QB.AOR(A,B))\n",
    "\n",
    "print()\n",
    "\n",
    "# Tesing function HappyDog\n",
    "## Function should return a good boi\n",
    "print(QB.HappyDog())"
   ]
  },
  {
   "cell_type": "markdown",
   "metadata": {},
   "source": [
    "#### Qc How do you 'recompile' a module?\n",
    "\n",
    "When changing the module code, Jupyter will keep running on the old module. How do you force the Jupyter notebook to re-load the module changes? \n",
    "\n",
    "NOTE: There is a surprising issue regarding module reloads in Jupyter notebooks. If you use another development framework, like Spyder or Visual Studio Code, module reloading works out-of-the-box. "
   ]
  },
  {
   "cell_type": "code",
   "execution_count": null,
   "metadata": {},
   "outputs": [],
   "source": [
    "# TODO: Qc...\n",
    "## There is a built-in reload function in the \"importlib\"-package\n",
    "## Caling the importlib.reload(#ModuleName) will recall the module and recall the lastest version.\n",
    "## For our created modules it could be called like so:\n",
    "import importlib\n",
    "\n",
    "importlib.reload(QB)"
   ]
  },
  {
   "cell_type": "markdown",
   "metadata": {},
   "source": [
    "#### [OPTIONAL] Qd Write a Howto on Python Modules a Packages\n",
    "\n",
    "Write a short description of how to use modules in Python (notes on modules path, import directives, directory structure, etc.)"
   ]
  },
  {
   "cell_type": "code",
   "execution_count": null,
   "metadata": {},
   "outputs": [],
   "source": [
    "# TODO: Qd..."
   ]
  },
  {
   "cell_type": "markdown",
   "metadata": {},
   "source": [
    "### Classes in Python\n",
    "\n",
    "Good news: Python got classes. Bad news: they are somewhat obscure compared to C++ classes. \n",
    "\n",
    "Though we will not use object-oriented programming in Python intensively, we still need some basic understanding of Python classes. Let's just dig into a class-demo, here is `MyClass` in Python\n",
    "\n",
    "```python\n",
    "class MyClass:\n",
    "   \n",
    "    def myfun(self):\n",
    "        self.myvar = \"blah\" # NOTE: a per class-instance variable.\n",
    "        print(f\"This is a message inside the class, myvar={self.myvar}.\")\n",
    "\n",
    "myobjectx = MyClass()\n",
    "```\n",
    "\n",
    "NOTE: The following exercise assumes some C++ knowledge, in particular the OPRG and OOP courses. If you are an EE-student, or from another Faculty, then ignore the cryptic C++ comments, and jump directly to some Python code instead. It's the Python solution here, that is important!\n",
    "\n",
    "#### Qe Extend the class with some public and private functions and member variables\n",
    "\n",
    "How are private function and member variables represented in python classes? \n",
    "\n",
    "What is the meaning of `self` in python classes?\n",
    "\n",
    "What happens to a function inside a class if you forget `self` in the parameter list, like `def myfun():` instead of `def myfun(self):` and you try to call it like `myobjectx.myfun()`? Remember to document the demo code and result.\n",
    "\n",
    "\n",
    "[OPTIONAL] What does 'class' and 'instance variables' in python correspond to in C++? Maybe you can figure it out, I did not really get it reading, say this tutorial\n",
    "\n",
    "> https://www.digitalocean.com/community/tutorials/understanding-class-and-instance-variables-in-python-3"
   ]
  },
  {
   "cell_type": "code",
   "execution_count": 12,
   "metadata": {},
   "outputs": [
    {
     "name": "stdout",
     "output_type": "stream",
     "text": [
      "This is a message inside the class, myvar=blah.\n"
     ]
    },
    {
     "data": {
      "text/plain": [
       "\"\\nThe above copy-paste of the questions code snippet will initiate it 'self'.\\nIt is used to acces the objects (in this case the class) attributes and methods depeding on the setup of the code.\\n\""
      ]
     },
     "execution_count": 12,
     "metadata": {},
     "output_type": "execute_result"
    }
   ],
   "source": [
    "# TODO: Qe...\n",
    "\n",
    "\"\"\"\n",
    "Python does not like other programming languages have public and private member.\n",
    "In a function or class the naming can be made more private by highlighting the function names with a dobble underscore at the beginning and end of the variable name. Example:\n",
    "def __measurement__(self):\n",
    "    etc...\n",
    "\n",
    "Another way could be:\n",
    "\n",
    "def __my_Variable():\n",
    "    etc...\n",
    "\n",
    "Here the underscore is suppose to indicate the \"private\" instance of the function.\n",
    "\n",
    "\"\"\"\n",
    "\n",
    "class MyClass:\n",
    "   \n",
    "    def myfun(self):\n",
    "        self.myvar = \"blah\" # NOTE: a per class-instance variable.\n",
    "        print(f\"This is a message inside the class, myvar={self.myvar}.\")\n",
    "\n",
    "myobjectx = MyClass()\n",
    "\n",
    "myobjectx.myfun()\n",
    "\n",
    "\"\"\"\n",
    "The above copy-paste of the questions code snippet will initiate it 'self'.\n",
    "It is used to acces the objects (in this case the class) attributes and methods depeding on the setup of the code.\n",
    "\n",
    "When the object does not inheirate the self attribute/the self call making the call:\n",
    "- myobjectx.myfun()\n",
    "Will return a TypeError saying the object wanted zero attribute where one was given.\n",
    "Removing the bracets at the call like so: myobjectx.myfun, will initiate the defined function myfun.\n",
    "\"\"\""
   ]
  },
  {
   "cell_type": "markdown",
   "metadata": {},
   "source": [
    "#### Qf Extend the class with a Constructor\n",
    "\n",
    "Figure a way to declare/define a constructor (CTOR) in a python class. How is it done in python?\n",
    "\n",
    "Is there a class destructor in python (DTOR)? Give a textual reason why/why-not python has a DTOR?\n",
    "\n",
    "Hint: python is garbage collection like in C#, and do not go into the details of `__del__, ___enter__, __exit__` functions...unless you find it irresistible to investigate."
   ]
  },
  {
   "cell_type": "code",
   "execution_count": null,
   "metadata": {},
   "outputs": [],
   "source": [
    "# TODO: Qf...\n",
    "\"\"\"\n",
    "Within a class a contructor is used to garbage collect attributes.\n",
    "For example:\n",
    "class university:\n",
    "\tdef __init__(self, student, major):\n",
    "\t\tself.student = student\n",
    "\t\tself.major = major\n",
    "\n",
    "\tdef reg(self)\n",
    "\t\tprint(f\"{self.student} is currently really well. However it seems he is failing {self.major}\")\n",
    "\n",
    "x = university(\"Alex\",\"SWMAL\") #Collecting\n",
    "x.reg() \n",
    "\n",
    "Python does not contain a class destructor as so.\n",
    "If for example a filehandler class was made a function within the class could be made that closes the file.\n",
    "\n",
    "\"\"\"\n",
    "\n"
   ]
  },
  {
   "cell_type": "markdown",
   "metadata": {},
   "source": [
    "#### Qg Extend the class with a to-string function\n",
    "\n",
    "Then find a way to serialize a class, that is to make some `tostring()` functionality similar to a C++ \n",
    "\n",
    "```C++\n",
    "friend ostream& operator<<(ostream& s,const MyClass& x)\n",
    "{\n",
    "    return os << ..\n",
    "}\n",
    "```\n",
    "\n",
    "If you do not know C++, you might be aware of the C# way to string serialize\n",
    "```\n",
    "    string s=myobject.tostring()\n",
    "```\n",
    "that is a per-class buildin function `tostring()`, now what is the pythonic way of 'printing' a class instance?"
   ]
  },
  {
   "cell_type": "code",
   "execution_count": 15,
   "metadata": {
    "ExecuteTime": {
     "end_time": "2024-02-13T13:06:56.572868400Z",
     "start_time": "2024-02-13T13:06:56.563717600Z"
    }
   },
   "outputs": [
    {
     "name": "stdout",
     "output_type": "stream",
     "text": [
      "I am a class of type myclass, i have the varaible 1 of value: 10\n",
      "I am a class of type myclass, i have the varaible 1 of value: 20\n"
     ]
    }
   ],
   "source": [
    "# TODO: Qg...\n",
    "\n",
    "\n",
    "class myclass:\n",
    "    value1 = None\n",
    "    \n",
    "    def __init__(self, val1):\n",
    "        self.value1 = val1\n",
    "    \n",
    "    def __str__(self):\n",
    "        return f\"I am a class of type {self.__class__.__name__}, i have the varaible 1 of value: {self.value1}\"\n",
    "\n",
    "\n",
    "myclass1 = myclass(10)\n",
    "myclass2 = myclass(20)\n",
    "\n",
    "print(myclass1)\n",
    "print(myclass2)\n"
   ]
  },
  {
   "cell_type": "markdown",
   "metadata": {},
   "source": [
    "#### [OPTIONAL] Qh Write a Howto on Python Classes \n",
    "\n",
    "Write a _How-To use Classes Pythonically_, including a description of public/privacy, constructors/destructors, the meaning of `self`, and inheritance."
   ]
  },
  {
   "cell_type": "code",
   "execution_count": null,
   "metadata": {},
   "outputs": [],
   "source": [
    "# TODO: Qh..."
   ]
  },
  {
   "cell_type": "markdown",
   "metadata": {},
   "source": [
    "## Administration\n",
    "\n",
    "REVISIONS||\n",
    ":- | :- |\n",
    "2018-12-19| CEF, initial.                  \n",
    "2018-02-06| CEF, updated and spell checked. \n",
    "2018-02-07| CEF, made Qh optional.\n",
    "2018-02-08| CEF, added PYTHONPATH for windows.\n",
    "2018-02-12| CEF, small mod in itmalutils/utils.\n",
    "2019-08-20| CEF, E19 ITMAL update.\n",
    "2020-01-25| CEF, F20 ITMAL update.\n",
    "2020-08-06| CEF, E20 ITMAL update, udpated figs paths.\n",
    "2020-09-07| CEF, added text on OPRG and OOP for EE's\n",
    "2020-09-29| CEF, added elaboration for journal in Qa+b.\n",
    "2021-02-06| CEF, fixed itmalutils.TestAll() in markdown cell.\n",
    "2021-08-02| CEF, update to E21 ITMAL.\n",
    "2022-01-25| CEF, update to F22 SWMAL.\n",
    "2022-02-25| CEF, elaborated on setx.exe on Windows and MAC PYTHONPATH.\n",
    "2022-08-30| CEF, updated to v1 changes.\n",
    "2022-09-16| CEF, added comment on module reloading when not using notebooks.\n",
    "2023-08-30| CEF, minor table and text update.\n",
    "2023-09-08| CEF, added not on Anaconda/Windows restart for PYTHON path env."
   ]
  }
 ],
 "metadata": {
  "kernelspec": {
   "display_name": "Python 3 (ipykernel)",
   "language": "python",
   "name": "python3"
  },
  "language_info": {
   "codemirror_mode": {
    "name": "ipython",
    "version": 3
   },
   "file_extension": ".py",
   "mimetype": "text/x-python",
   "name": "python",
   "nbconvert_exporter": "python",
   "pygments_lexer": "ipython3",
   "version": "3.11.8"
  },
  "varInspector": {
   "cols": {
    "lenName": 16,
    "lenType": 16,
    "lenVar": 40
   },
   "kernels_config": {
    "python": {
     "delete_cmd_postfix": "",
     "delete_cmd_prefix": "del ",
     "library": "var_list.py",
     "varRefreshCmd": "print(var_dic_list())"
    },
    "r": {
     "delete_cmd_postfix": ") ",
     "delete_cmd_prefix": "rm(",
     "library": "var_list.r",
     "varRefreshCmd": "cat(var_dic_list()) "
    }
   },
   "position": {
    "height": "144.517px",
    "left": "666px",
    "right": "20px",
    "top": "425px",
    "width": "350px"
   },
   "types_to_exclude": [
    "module",
    "function",
    "builtin_function_or_method",
    "instance",
    "_Feature"
   ],
   "window_display": true
  }
 },
 "nbformat": 4,
 "nbformat_minor": 2
}
