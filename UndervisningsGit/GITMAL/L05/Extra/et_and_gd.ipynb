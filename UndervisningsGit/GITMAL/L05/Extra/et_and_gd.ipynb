{
 "cells": [
  {
   "cell_type": "markdown",
   "metadata": {},
   "source": [
    "# SWMAL Exercise\n",
    "\n",
    "\n",
    "## The E.T. and Gradient Descent for Linear Regression\n",
    "\n",
    "<img src=\"https://itundervisning.ase.au.dk/SWMAL/L05/Figs/et.jpg\" alt=\"WARNING: could not get image from server.\" style=\"height:250px\">\n",
    "\n",
    "The Good News is that aliens are here, yes, really, and You are are assigned teacher for one Extra-Terrestial _creature_.\n",
    "\n",
    "Your task is to create a document (journal) for the _creature_, explaining Gradient Descent related to the linear regression model. \n",
    "\n",
    "Other students and causes will be teaching matrix/vector notation, linear algebra, art, poetry, politics, war, economics and explaining the humor in Southpark etc. You should concentrate on learning the _creature_ all about Gradient Decent for Linear Regression!\n",
    "\n",
    "The _creature_ needs about four, max. six normal pages of text (one normal page = 2400 chars including spaces). More than six pages is like pouring water on a <a href='https://en.wikipedia.org/wiki/Gremlins'>Mogwai</a> (=> turns into a grumpy Gremlin).\n",
    "\n",
    "However, the _creature_ likes reading code and math and examining beutifull plots, so code sections, math and plots do not count into the max normal-page limit. It is fluent in Danish as well as English.\n",
    "\n",
    "As you job of being an E.T.-teacher, You must cover Gradient Decent for a simple Linear Regression model with at least the following concepts:\n",
    "\n",
    "* Linear Regression model prediction in vectorized form\n",
    "* MSE cost function for a Linear Regression model\n",
    "* Closed-form solution (normal equation)\n",
    "* Numerical gradient decent\n",
    "    * Batch Gradient Descent\n",
    "    * Stochastic Gradient Descent\n",
    "    * Learning rates\n",
    "\n",
    "Feel free to add additional Gradient Decent concepts, but remember to keep the text You submit below max. six pages (exluding plot, code and math).\n",
    "\n",
    "Note that you could peek into the other notebooks for this lesson, copying math, code, and plots from these are allowed.\n",
    "\n",
    "(Once submitted as a hand-in in Brightspace, I will forward it to the E.T., but expect no direct feedback from the _creature_..)"
   ]
  },
  {
   "cell_type": "code",
   "execution_count": 6,
   "metadata": {},
   "outputs": [],
   "source": [
    "# TODO: Your GD documentation for the E.T."
   ]
  },
  {
   "cell_type": "markdown",
   "metadata": {},
   "source": [
    "REVISIONS||\n",
    "---------||\n",
    "2021-09-26| CEF, initial.\n",
    "2021-09-27| CEF, elaborated on the story-telling element.\n",
    "2022-09-30| CEF, Simpsons => Southpark.\n",
    "2021-01-25| CEF, update to SWMAL F22.\n"
   ]
  }
 ],
 "metadata": {
  "kernelspec": {
   "display_name": "Python 3 (ipykernel)",
   "language": "python",
   "name": "python3"
  },
  "language_info": {
   "codemirror_mode": {
    "name": "ipython",
    "version": 3
   },
   "file_extension": ".py",
   "mimetype": "text/x-python",
   "name": "python",
   "nbconvert_exporter": "python",
   "pygments_lexer": "ipython3",
   "version": "3.9.7"
  },
  "varInspector": {
   "cols": {
    "lenName": 16,
    "lenType": 16,
    "lenVar": 40
   },
   "kernels_config": {
    "python": {
     "delete_cmd_postfix": "",
     "delete_cmd_prefix": "del ",
     "library": "var_list.py",
     "varRefreshCmd": "print(var_dic_list())"
    },
    "r": {
     "delete_cmd_postfix": ") ",
     "delete_cmd_prefix": "rm(",
     "library": "var_list.r",
     "varRefreshCmd": "cat(var_dic_list()) "
    }
   },
   "types_to_exclude": [
    "module",
    "function",
    "builtin_function_or_method",
    "instance",
    "_Feature"
   ],
   "window_display": false
  }
 },
 "nbformat": 4,
 "nbformat_minor": 4
}
