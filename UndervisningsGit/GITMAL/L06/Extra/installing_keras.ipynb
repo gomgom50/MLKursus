{
 "cells": [
  {
   "cell_type": "markdown",
   "metadata": {},
   "source": [
    "# SWMAL Installing Keras\n",
    "\n",
    "## Caveat\n",
    "\n",
    "This Notebook was aimed at installing a specific Anaconda version. Hints, tricks and hacks may not be possible anymore, due to newer versions or fixed issues.  \n",
    "\n",
    "\n",
    "## Installing Keras and Tensorflow for Anaconda 2021.11\n",
    "\n",
    "### About Anaconda Package Managers\n",
    "\n",
    "Anaconda comes with two different package managers: `conda` and `pip`\n",
    "\n",
    "* `conda` is the preferred package manager, that will check new package installation for compatibility with existing packages. While this pre-compatibility check is nice in theory, it often turns out, that it becomes impossible to install a given package due to incompatibilities with one or more other packages. Even more annoying, the simple installation of a package may take hours to complete.\n",
    "\n",
    "* `pip` is a simpler package manager, that comes with most Python distributions. It does none of the compatibility checks when installing; it just installs whatever you ask it to (and incompatibility may then creep in in the run-time environment).\n",
    "\n",
    "Normally you would try to install whatever you need via `conda` and when it breaks down due to too many broken dependencies (trying with 'flexible solve' etc. for hours), you just continue with `pip`.\n",
    "\n",
    "If you just want a quick(-and-dirty?) install of `keras` and `tensorflow` goto the \"Install via PIP\" cell, otherwise try the \"Install via CONDA\".\n",
    "\n",
    "NOTE: the new 2022.XX Anaconda version seemingly lets you install `keras` and `tensorflow` without hick-ups, version 2023.YY has not been tested.\n",
    "\n",
    "NOTE: when you get of tired waiting for `conda`, then you should try `mamba` instead. You still need to `conda` install `mamba` but from then on, it can replace the inefficient Python-based `conda` with a more efficient C++ backend. \n",
    "\n",
    "NOTE: when you then get tired of waiting for `mamba`, then you should try `micromamba`, a 100% C++ based implementation, somewhat more efficient than `mamba`. "
   ]
  },
  {
   "cell_type": "markdown",
   "metadata": {},
   "source": [
    "## Installing via PIP\n",
    "\n",
    "If `conda` fails, or you just want to proceed quickly, then install everything in the base environment via pip\n",
    "\n",
    "```bash\n",
    "> pip install keras tensorflow\n",
    "\n",
    "```\n",
    "\n",
    "<img src=\"https://itundervisning.ase.au.dk/SWMAL/L06/Figs/Screenshot_pip_install_tensorflow.png\" alt=\"WARNING: could not get image from server.\" style=\"width:800px\">\n",
    "\n",
    "and then just launch the jupyter-notebook in the default (base) environment.\n",
    "\n",
    "<img src=\"https://itundervisning.ase.au.dk/SWMAL/L06/Figs/Screenshot_pip_install_run_notebook.png\" alt=\"WARNING: could not get image from server.\" style=\"width:800px\">\n",
    "\n",
    "and test the installed versions via the `Version()` function in `libitmal`"
   ]
  },
  {
   "cell_type": "code",
   "execution_count": 1,
   "metadata": {},
   "outputs": [
    {
     "name": "stdout",
     "output_type": "stream",
     "text": [
      "Python version:              3.9.12\n",
      "numpy version:               1.21.5\n",
      "sklearn version:             1.0.2\n",
      "keras version:               2.8.0\n",
      "tensorflow version:          2.8.1\n",
      "tensorflow.keras version:    2.8.0\n",
      "cv2 version:                 4.6.0\n"
     ]
    },
    {
     "name": "stderr",
     "output_type": "stream",
     "text": [
      "WARNING: could not find library 'pytorch' in path\n"
     ]
    }
   ],
   "source": [
    "from libitmal import versions\n",
    "versions.Versions()"
   ]
  },
  {
   "cell_type": "markdown",
   "metadata": {},
   "source": [
    "I got the output, with a `keras` and `tensorflow` version at 2.8,0 (instead of 2.6.0 from a `conda` install): \n",
    "\n",
    "```\n",
    "Python version:              3.9.12\n",
    "numpy version:               1.21.5\n",
    "sklearn version:             1.0.2\n",
    "keras version:               2.8.0\n",
    "tensorflow version:          2.8.1\n",
    "tensorflow.keras version:    2.8.0\n",
    "cv2 version:                 4.5.5\n",
    "\n",
    "WARNING: could not find library 'pytorch' in path\n",
    "```\n",
    "\n",
    "NOTE: this pip install needs testing and verification --- please report if it does not work on your PC! "
   ]
  },
  {
   "cell_type": "markdown",
   "metadata": {},
   "source": [
    "\n",
    "## Installing via CONDA\n",
    "\n",
    "Keras will not install under Anaconda version 2021.11.It ends up in an endless package conflict when installing under `conda`.\n",
    "\n",
    "<img src=\"https://itundervisning.ase.au.dk/SWMAL/L06/Figs/Screenshot_conda_install_keras_tensorflow_conflicts.png\" alt=\"WARNING: could not get image from server.\" style=\"width:800px\">\n",
    "\n",
    "(This is a new finding for the particular version 2021.11, and the previous version did not have this tensorflow install problem, but typically only a Keras install problem).\n",
    "\n",
    "The root cause of the problem must be missing checks when packaging the Anaconda, failing to find the set of conflicts we see, when installing `tensorflow` in the set of default installed packages that come with the Anaconda distribution.\n",
    "\n",
    "\n",
    "#### 1) Prepare and Create a new Environment\n",
    "\n",
    "So, one solution is to create a new conda environment, and from this install `scikit-learn` and `tensorflow` and `keras`,\n",
    "\n",
    "Later we need a package called `nb_conda_kernels`, let us install this before we create and activate the new environment\n",
    "\n",
    "```bash\n",
    "(base)> conda install nb_conda_kernels\n",
    "\n",
    "```\n",
    "\n",
    "<img src=\"https://itundervisning.ase.au.dk/SWMAL/L06/Figs/Screenshot_conda_install_keras_tensorflow_preinstall.png\" alt=\"WARNING: could not get image from server.\" style=\"width:800px\">\n",
    "\n",
    "\n",
    "Now, let us call our environment `swmal` and create it by running\n",
    "\n",
    "```bash\n",
    "(base)> conda create --name swmal\n",
    "```\n",
    "\n",
    "Activate the newly created environment via \n",
    "\n",
    "```bash\n",
    "(base)> conda activate swmal\n",
    "```\n",
    "\n",
    "<img src=\"https://itundervisning.ase.au.dk/SWMAL/L06/Figs/Screenshot_conda_install_keras_tensorflow_create_env.png\" alt=\"WARNING: could not get image from server.\" style=\"width:800px\">\n",
    "\n",
    "#### 2) Install Needed Packages \n",
    "\n",
    "Now we got a clean state environment and we need to install the packages needed for `scikit-learn` and  `tensorflow`, but this is as easy as\n",
    "\n",
    "```bash\n",
    "(swmal)> conda install scikit-learn tensorflow keras nb_conda_kernels matplotlib\n",
    "```\n",
    "\n",
    "<img src=\"https://itundervisning.ase.au.dk/SWMAL/L06/Figs/Screenshot_conda_install_keras_tensorflow_installing.png\" alt=\"WARNING: could not get image from server.\" style=\"width:800px\">\n",
    "\n",
    "\n",
    "<img src=\"https://itundervisning.ase.au.dk/SWMAL/L06/Figs/Screenshot_conda_install_keras_tensorflow_installing_done.png\" alt=\"WARNING: could not get image from server.\" style=\"width:800px\">\n",
    "\n",
    "Notice that the package `nb_conda_kernels` also needs to be installed in this new environment, and it actually also installs the jupyter notebook packages.\n",
    "\n",
    "#### 3) Launching Jupyter-Notebooks in the new Environment\n",
    "\n",
    "There are two `keras` interfaces, the stand-alone `keras`, and then a similar interface already build into `tensorflow.keras`. You could use both, but direct access via the stand-alone interface may be the most obvious.\n",
    "\n",
    "```bash\n",
    "(swmal)> jupyter-notebook\n",
    "```\n",
    "\n",
    "<img src=\"https://itundervisning.ase.au.dk/SWMAL/L06/Figs/Screenshot_conda_install_keras_tensorflow_run_notebook.png\" alt=\"WARNING: could not get image from server.\" style=\"width:800px\">\n",
    "\n",
    "For some reason there now is a missing function in the `pythoncom39.dll` reported via the \"Entry Point Not Found\" dialog, but just ignore this warning for now (or find a fix and share it).\n",
    "\n",
    "You can change the environment in the Jupyter-Notebook via the menu \"Kernel | Change Kernel\" and this screendump shows how the environment is set to \"swmal\" when launching the Notebook in the activated environment above\n",
    "\n",
    "<img src=\"https://itundervisning.ase.au.dk/SWMAL/L06/Figs/Screenshot_conda_install_keras_tensorflow_run_notebook2.png\" alt=\"WARNING: could not get image from server.\" style=\"width:800px\">\n",
    "\n",
    "#### 4) Testing the New Environment Setup\n",
    "\n",
    "Let us see the version installed in the new `swmal` environment via the `Versions()` function found in the `itmallib`"
   ]
  },
  {
   "cell_type": "code",
   "execution_count": 2,
   "metadata": {},
   "outputs": [
    {
     "name": "stdout",
     "output_type": "stream",
     "text": [
      "Python version:              3.9.12\n",
      "numpy version:               1.21.5\n",
      "sklearn version:             1.0.2\n",
      "keras version:               2.8.0\n",
      "tensorflow version:          2.8.1\n",
      "tensorflow.keras version:    2.8.0\n",
      "cv2 version:                 4.6.0\n"
     ]
    },
    {
     "name": "stderr",
     "output_type": "stream",
     "text": [
      "WARNING: could not find library 'pytorch' in path\n"
     ]
    }
   ],
   "source": [
    "from libitmal import versions\n",
    "versions.Versions()"
   ]
  },
  {
   "cell_type": "markdown",
   "metadata": {},
   "source": [
    "The `Versions()` function should print whatever version you installed, or produce a warning, if the package is not installed at all. \n",
    "\n",
    "For my current Windows/Anaconda setup I got the versions, Yours may differ slightly\n",
    "\n",
    "```\n",
    "Python version:              3.9.7.\n",
    "Scikit-learn version:        1.0.2.\n",
    "Keras version:               2.6.0\n",
    "Tensorflow version:          2.6.0\n",
    "Tensorflow.keras version:    2.6.0\n",
    "```\n",
    "\n",
    "And for an Anaconda 2022 setup I got\n",
    "\n",
    "```\n",
    "Python version:              3.9.12\n",
    "numpy version:               1.21.5\n",
    "sklearn version:             1.0.2\n",
    "keras version:               2.8.0\n",
    "tensorflow version:          2.8.1\n",
    "tensorflow.keras version:    2.8.0\n",
    "cv2 version:                 4.5.5\n",
    "\n",
    "WARNING: could not find library 'pytorch' in path\n",
    "```\n",
    "\n",
    "#### 5) Wrapping It All Up in a BAT File\n",
    "\n",
    "To make development easy, a BAT (Windows batch or script file) should be created. This should ease the launch of Jupyter-Notebooks and the BAT file could be put in an icon placed on the taskbar or similar.\n",
    "\n",
    "The BAT file should contain the following text lines, and you can place this in an icon in the taskbar allowing for easy launch of future notebooks.\n",
    "\n",
    "\n",
    "```\n",
    "@ECHO OFF\n",
    "\n",
    "REM my-jupyter-notebook\n",
    "REM  Version: 0.1\n",
    "REM    2022-03-23: CEF, inital version\n",
    "\n",
    "echo MY-JUPYTER-NOTEBOOK launcher..\n",
    "\n",
    "REM %windir%\\System32\\cmd.exe \"/K\" %HOMEPATH%\\Anaconda3\\Sc2 ripts\\activate.bat %HOMEPATH%\\Anaconda3 swmal\n",
    "@CALL \"%HOMEPATH%\\Anaconda3\\condabin\\conda.bat\" activate swmal %* \n",
    "\n",
    "REM note book start in this directory, you may change it:\n",
    "cd \\\n",
    "\n",
    "jupyter-notebook \n",
    "\n",
    "echo DONE\n",
    "```"
   ]
  },
  {
   "cell_type": "markdown",
   "metadata": {},
   "source": [
    "REVISIONS| |\n",
    ":- | :- |\n",
    "2018-03-25| CEF, initial.\n",
    "2020-03-05| CEF, F20 ITMAL update.\n",
    "2020-03-06| CEF, investigated Anaconda 2019.10 on Windows and updated GPU server notes.\n",
    "2021-10-12| CEF, updated for ITMAL E21.\n",
    "2022-03-23| CEF, updated for SWMAL F22, rewrote install method for Keras via environments.\n",
    "2022-03-25| CEF, elaborated on conda and pip, and added pip install and screenshots.\n",
    "2023-03-06| CEF, added note on Anaconda 2022 setup.\n",
    "2023-10-03| CEF, added caveat and notes on mamba and micromamba, plus spelling."
   ]
  }
 ],
 "metadata": {
  "kernelspec": {
   "display_name": "Python 3 (ipykernel)",
   "language": "python",
   "name": "python3"
  },
  "language_info": {
   "codemirror_mode": {
    "name": "ipython",
    "version": 3
   },
   "file_extension": ".py",
   "mimetype": "text/x-python",
   "name": "python",
   "nbconvert_exporter": "python",
   "pygments_lexer": "ipython3",
   "version": "3.9.12"
  },
  "varInspector": {
   "cols": {
    "lenName": 16,
    "lenType": 16,
    "lenVar": 40
   },
   "kernels_config": {
    "python": {
     "delete_cmd_postfix": "",
     "delete_cmd_prefix": "del ",
     "library": "var_list.py",
     "varRefreshCmd": "print(var_dic_list())"
    },
    "r": {
     "delete_cmd_postfix": ") ",
     "delete_cmd_prefix": "rm(",
     "library": "var_list.r",
     "varRefreshCmd": "cat(var_dic_list()) "
    }
   },
   "types_to_exclude": [
    "module",
    "function",
    "builtin_function_or_method",
    "instance",
    "_Feature"
   ],
   "window_display": true
  }
 },
 "nbformat": 4,
 "nbformat_minor": 2
}
