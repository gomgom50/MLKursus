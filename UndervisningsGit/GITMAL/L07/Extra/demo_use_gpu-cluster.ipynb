{
 "cells": [
  {
   "cell_type": "markdown",
   "metadata": {},
   "source": [
    "# SWMAL Notebook\n",
    "\n",
    "## Quickstart demo..\n",
    "\n",
    "Running on the GPU-cluster (http://gpucluster.st.lab.au.dk).\n",
    "\n",
    "See details in \"Brightspace SWMAL | Kursusinformation | GPU Cluster\""
   ]
  },
  {
   "cell_type": "markdown",
   "metadata": {},
   "source": [
    "### Get ITMAL GIT repository\n",
    "\n",
    "Clone [GITMAL] via the shell command '!'.."
   ]
  },
  {
   "cell_type": "code",
   "execution_count": null,
   "metadata": {},
   "outputs": [],
   "source": [
    "! test -d ~/GITMAL || (echo \"Cloning GITMAL..\" && git clone https://gitlab.au.dk/au204573/GITMAL.git)\n",
    "! cd ~/GITMAL && git pull"
   ]
  },
  {
   "cell_type": "markdown",
   "metadata": {},
   "source": [
    "### Test Python Paths\n",
    "\n",
    "This cell just test if the startup-sequence has been run..\n",
    "\n",
    "(startup-sequence placed in `~/.ipython/profile_default/startup /00_init.py`, that is a softlink to `/home/shared/00_init.py`.)"
   ]
  },
  {
   "cell_type": "code",
   "execution_count": null,
   "metadata": {},
   "outputs": [],
   "source": [
    "import sys\n",
    "import os\n",
    "\n",
    "p=sys.path\n",
    "print(f\"Your current path=\")\n",
    "\n",
    "itmal_found_in_path=False\n",
    "for i in p:\n",
    "    print(f\"    {i}\")\n",
    "    n=i.find(\"/GITMAL\")\n",
    "    if n>0:\n",
    "        itmal_found_in_path=True\n",
    "\n",
    "if not itmal_found_in_path:\n",
    "    ipython_softlink = \"~/.ipython/libitmal\"\n",
    "    itmal_found_in_path = os.path.exists(os.path.expanduser(ipython_softlink))\n",
    "    if itmal_found_in_path:\n",
    "        print(f\"\\n'GITMAL' not found in direct path, instead as softlink in '{ipython_softlink}'..YES\\n\")\n",
    "        itmal_found_in_path = pathlib.Path.exists(ipython_softlink)\n",
    "    else:\n",
    "        print(f\"\\nERROR: Softlink '{ipython_softlink}' is broken!\")\n",
    "\n",
    "assert itmal_found_in_path, \"ERROR: 'GITMAL' dir not present in system path...you are in trouble!\"\n",
    "print(\"OK\")"
   ]
  },
  {
   "cell_type": "markdown",
   "metadata": {},
   "source": [
    "### Test ITMAL library\n",
    "\n",
    "Now, import some functions form 'libitmal'.."
   ]
  },
  {
   "cell_type": "code",
   "execution_count": null,
   "metadata": {},
   "outputs": [],
   "source": [
    "from libitmal import versions as ver \n",
    "ver.Versions()"
   ]
  },
  {
   "cell_type": "markdown",
   "metadata": {},
   "source": [
    "If it went well, you should see version like\n",
    "\n",
    "```\n",
    "Python version:              3.9.12\n",
    "numpy version:               1.22.4\n",
    "sklearn version:             1.0.2\n",
    "keras version:               2.8.0\n",
    "tensorflow version:          2.8.1\n",
    "tensorflow.keras version:    2.8.0\n",
    "cv2 version:                 4.6.0\n",
    "WARNING: could not find library 'pytorch' in path\n",
    "```"
   ]
  },
  {
   "cell_type": "markdown",
   "metadata": {},
   "source": [
    "### Long-running cells in JupyterHub\n",
    "\n",
    "...and how to capture output from 'em after closing Your browser or Your VPN connection.\n",
    "\n",
    "### Step 1\n",
    "\n",
    "First use the `%%capture` magic command in a long-running cell---the cell below also sets the 'done' flag to false.\n",
    "\n",
    "### Step 2\n",
    "\n",
    "Run the cell, and close you browser."
   ]
  },
  {
   "cell_type": "code",
   "execution_count": null,
   "metadata": {},
   "outputs": [],
   "source": [
    "%%capture output\n",
    "\n",
    "import time\n",
    "\n",
    "t=20\n",
    "done=False # \n",
    "print(\"Jupyter Hub test..\")\n",
    "print(f\"  long running cell, sleep for {t} seconds..\")\n",
    "\n",
    "print(f\"  beg: {time.ctime()}\")\n",
    "time.sleep(t)\n",
    "print(f\"  end: {time.ctime()}\")\n",
    "done=True"
   ]
  },
  {
   "cell_type": "markdown",
   "metadata": {},
   "source": [
    "### Step 3\n",
    "\n",
    "Finally come back to the node you launched the long-running cell on and see if the `done` flag is marked as `True`, then the captured output can be printed, see this in the second cell"
   ]
  },
  {
   "cell_type": "code",
   "execution_count": null,
   "metadata": {},
   "outputs": [],
   "source": [
    "#print(f\"done={done}\")\n",
    "\n",
    "if done:\n",
    "    output.show() # displays captured output\n",
    "else:\n",
    "    print(\"cell above still seem to be running, wait some more..\")"
   ]
  },
  {
   "cell_type": "markdown",
   "metadata": {},
   "source": [
    "You can connect to running jupyter Notebooks via\n",
    "\n",
    "<img src=\"https://itundervisning.ase.au.dk/SWMAL/L07/Figs/Screenshot_juptyterhub_running_cells.png\"\n",
    " alt=\"WARNING: could not get image from server.\" style=\"height:500px\">\n",
    "\n",
    "Beware that the star \"[*]\" wont show up as expected, when reconnection: the cell might be running even if no star \"[ ]\" is showing!\n",
    "\n",
    "<img src=\"https://itundervisning.ase.au.dk/SWMAL/L07/Figs/Screenshot_juptyterhub_running_cells_missing_star.png\"\n",
    " alt=\"WARNING: could not get image from server.\" style=\"height:500px\">"
   ]
  },
  {
   "cell_type": "markdown",
   "metadata": {},
   "source": [
    "REVISIONS| |\n",
    ":- | :- |\n",
    "2018-??-??| CEF, initial.\n",
    "2021-04-07| CEF, updated, added header text and long-running section.\n",
    "2021-10-26| CEF, minor lesson number update added more intro text.\n",
    "2022-03-21| CEF, updated for SWMAL F22, changed url links, updated img links.2023-07-05| CEF, removed orphan link to older BS page.\n",
    "2023-10-12| CEF, update and elaborated on path checks, changed to correct git repository."
   ]
  }
 ],
 "metadata": {
  "kernelspec": {
   "display_name": "Python 3 (ipykernel)",
   "language": "python",
   "name": "python3"
  },
  "language_info": {
   "codemirror_mode": {
    "name": "ipython",
    "version": 3
   },
   "file_extension": ".py",
   "mimetype": "text/x-python",
   "name": "python",
   "nbconvert_exporter": "python",
   "pygments_lexer": "ipython3",
   "version": "3.9.12"
  },
  "varInspector": {
   "cols": {
    "lenName": 16,
    "lenType": 16,
    "lenVar": 40
   },
   "kernels_config": {
    "python": {
     "delete_cmd_postfix": "",
     "delete_cmd_prefix": "del ",
     "library": "var_list.py",
     "varRefreshCmd": "print(var_dic_list())"
    },
    "r": {
     "delete_cmd_postfix": ") ",
     "delete_cmd_prefix": "rm(",
     "library": "var_list.r",
     "varRefreshCmd": "cat(var_dic_list()) "
    }
   },
   "types_to_exclude": [
    "module",
    "function",
    "builtin_function_or_method",
    "instance",
    "_Feature"
   ],
   "window_display": false
  }
 },
 "nbformat": 4,
 "nbformat_minor": 4
}
