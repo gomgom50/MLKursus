{
 "cells": [
  {
   "cell_type": "code",
   "outputs": [],
   "source": [
    "import pandas as pd\n",
    "from sklearn.compose import ColumnTransformer\n",
    "from sklearn.pipeline import Pipeline\n",
    "from sklearn.preprocessing import OneHotEncoder, RobustScaler\n",
    "\n",
    "#import cleaned_data.csv to pandas.\n",
    "\n",
    "data = pd.read_csv('cleaned_data.csv')\n"
   ],
   "metadata": {
    "collapsed": false,
    "ExecuteTime": {
     "end_time": "2024-04-23T10:52:19.734045Z",
     "start_time": "2024-04-23T10:52:19.654694Z"
    }
   },
   "id": "b00cf9c062bc51dd",
   "execution_count": 35
  },
  {
   "cell_type": "code",
   "outputs": [
    {
     "data": {
      "text/plain": "        CreditScore   Age    Balance  NumOfProducts  HasCrCard  \\\n0               581  34.0  148882.54              1        1.0   \n1               588  36.0  131778.58              1        1.0   \n2               593  30.0  144772.69              1        1.0   \n3               678  37.0  138476.41              1        1.0   \n4               583  40.0   81274.33              1        1.0   \n...             ...   ...        ...            ...        ...   \n125519          752  32.0  160729.10              1        1.0   \n125520          667  43.0   83765.35              1        1.0   \n125521          570  29.0  116099.82              1        1.0   \n125522          575  36.0  178032.53              1        1.0   \n125523          621  37.0   87848.39              1        1.0   \n\n        EstimatedSalary Geography  Gender  \n0              84560.88    France    Male  \n1             136024.31   Germany    Male  \n2              29792.11    France  Female  \n3             106851.60     Spain    Male  \n4             170843.07   Germany    Male  \n...                 ...       ...     ...  \n125519        142223.94     Spain    Male  \n125520        118358.54   Germany  Female  \n125521        148087.62     Spain    Male  \n125522         42181.68    France  Female  \n125523         24210.56    France  Female  \n\n[125524 rows x 8 columns]",
      "text/html": "<div>\n<style scoped>\n    .dataframe tbody tr th:only-of-type {\n        vertical-align: middle;\n    }\n\n    .dataframe tbody tr th {\n        vertical-align: top;\n    }\n\n    .dataframe thead th {\n        text-align: right;\n    }\n</style>\n<table border=\"1\" class=\"dataframe\">\n  <thead>\n    <tr style=\"text-align: right;\">\n      <th></th>\n      <th>CreditScore</th>\n      <th>Age</th>\n      <th>Balance</th>\n      <th>NumOfProducts</th>\n      <th>HasCrCard</th>\n      <th>EstimatedSalary</th>\n      <th>Geography</th>\n      <th>Gender</th>\n    </tr>\n  </thead>\n  <tbody>\n    <tr>\n      <th>0</th>\n      <td>581</td>\n      <td>34.0</td>\n      <td>148882.54</td>\n      <td>1</td>\n      <td>1.0</td>\n      <td>84560.88</td>\n      <td>France</td>\n      <td>Male</td>\n    </tr>\n    <tr>\n      <th>1</th>\n      <td>588</td>\n      <td>36.0</td>\n      <td>131778.58</td>\n      <td>1</td>\n      <td>1.0</td>\n      <td>136024.31</td>\n      <td>Germany</td>\n      <td>Male</td>\n    </tr>\n    <tr>\n      <th>2</th>\n      <td>593</td>\n      <td>30.0</td>\n      <td>144772.69</td>\n      <td>1</td>\n      <td>1.0</td>\n      <td>29792.11</td>\n      <td>France</td>\n      <td>Female</td>\n    </tr>\n    <tr>\n      <th>3</th>\n      <td>678</td>\n      <td>37.0</td>\n      <td>138476.41</td>\n      <td>1</td>\n      <td>1.0</td>\n      <td>106851.60</td>\n      <td>Spain</td>\n      <td>Male</td>\n    </tr>\n    <tr>\n      <th>4</th>\n      <td>583</td>\n      <td>40.0</td>\n      <td>81274.33</td>\n      <td>1</td>\n      <td>1.0</td>\n      <td>170843.07</td>\n      <td>Germany</td>\n      <td>Male</td>\n    </tr>\n    <tr>\n      <th>...</th>\n      <td>...</td>\n      <td>...</td>\n      <td>...</td>\n      <td>...</td>\n      <td>...</td>\n      <td>...</td>\n      <td>...</td>\n      <td>...</td>\n    </tr>\n    <tr>\n      <th>125519</th>\n      <td>752</td>\n      <td>32.0</td>\n      <td>160729.10</td>\n      <td>1</td>\n      <td>1.0</td>\n      <td>142223.94</td>\n      <td>Spain</td>\n      <td>Male</td>\n    </tr>\n    <tr>\n      <th>125520</th>\n      <td>667</td>\n      <td>43.0</td>\n      <td>83765.35</td>\n      <td>1</td>\n      <td>1.0</td>\n      <td>118358.54</td>\n      <td>Germany</td>\n      <td>Female</td>\n    </tr>\n    <tr>\n      <th>125521</th>\n      <td>570</td>\n      <td>29.0</td>\n      <td>116099.82</td>\n      <td>1</td>\n      <td>1.0</td>\n      <td>148087.62</td>\n      <td>Spain</td>\n      <td>Male</td>\n    </tr>\n    <tr>\n      <th>125522</th>\n      <td>575</td>\n      <td>36.0</td>\n      <td>178032.53</td>\n      <td>1</td>\n      <td>1.0</td>\n      <td>42181.68</td>\n      <td>France</td>\n      <td>Female</td>\n    </tr>\n    <tr>\n      <th>125523</th>\n      <td>621</td>\n      <td>37.0</td>\n      <td>87848.39</td>\n      <td>1</td>\n      <td>1.0</td>\n      <td>24210.56</td>\n      <td>France</td>\n      <td>Female</td>\n    </tr>\n  </tbody>\n</table>\n<p>125524 rows × 8 columns</p>\n</div>"
     },
     "execution_count": 36,
     "metadata": {},
     "output_type": "execute_result"
    }
   ],
   "source": [
    "data"
   ],
   "metadata": {
    "collapsed": false,
    "ExecuteTime": {
     "end_time": "2024-04-23T10:52:20.072378Z",
     "start_time": "2024-04-23T10:52:20.062563Z"
    }
   },
   "id": "2c70b86e3370dcb7",
   "execution_count": 36
  },
  {
   "cell_type": "code",
   "outputs": [],
   "source": [
    "# Define the features that need encoding and those that don't\n",
    "categorical_features = ['Geography', 'Gender']\n",
    "numerical_features = ['CreditScore', 'Age', 'Balance', 'NumOfProducts','HasCrCard', 'EstimatedSalary']\n"
   ],
   "metadata": {
    "collapsed": false,
    "ExecuteTime": {
     "end_time": "2024-04-23T10:52:20.633231Z",
     "start_time": "2024-04-23T10:52:20.630698Z"
    }
   },
   "id": "fc3a934baf60e7e1",
   "execution_count": 37
  },
  {
   "cell_type": "code",
   "outputs": [],
   "source": [
    "# Create transformers for the pipeline\n",
    "categorical_transformer = Pipeline(steps=[\n",
    "    ('onehot', OneHotEncoder(handle_unknown='ignore'))\n",
    "])\n",
    "\n",
    "# Adding RobustScaler for numerical features\n",
    "numerical_transformer = Pipeline(steps=[\n",
    "    ('scaler', RobustScaler())\n",
    "])\n"
   ],
   "metadata": {
    "collapsed": false,
    "ExecuteTime": {
     "end_time": "2024-04-23T10:52:21.154716Z",
     "start_time": "2024-04-23T10:52:21.152075Z"
    }
   },
   "id": "8b6bcb8813f3b160",
   "execution_count": 38
  },
  {
   "cell_type": "code",
   "outputs": [],
   "source": [
    "# Combine transformers into a single ColumnTransformer\n",
    "preprocessor = ColumnTransformer(\n",
    "    transformers=[\n",
    "        ('cat', categorical_transformer, categorical_features),\n",
    "        ('num', numerical_transformer, numerical_features)\n",
    "    ])\n"
   ],
   "metadata": {
    "collapsed": false,
    "ExecuteTime": {
     "end_time": "2024-04-23T10:52:21.606630Z",
     "start_time": "2024-04-23T10:52:21.603256Z"
    }
   },
   "id": "d8f41be7dfdc32a1",
   "execution_count": 39
  },
  {
   "cell_type": "code",
   "outputs": [],
   "source": [
    "# Example pipeline: let's say we just want to transform the data\n",
    "transform_pipeline = Pipeline(steps=[('preprocessor', preprocessor)])\n",
    "\n",
    "# Apply the pipeline to the data\n",
    "transformed_data = transform_pipeline.fit_transform(data)\n"
   ],
   "metadata": {
    "collapsed": false,
    "ExecuteTime": {
     "end_time": "2024-04-23T10:52:22.056213Z",
     "start_time": "2024-04-23T10:52:21.968198Z"
    }
   },
   "id": "bd185f6594e16fe0",
   "execution_count": 40
  },
  {
   "cell_type": "code",
   "outputs": [
    {
     "data": {
      "text/plain": "array([[ 1.        ,  0.        ,  0.        , ...,  0.        ,\n         0.        , -0.40941262],\n       [ 0.        ,  1.        ,  0.        , ...,  0.        ,\n         0.        ,  0.22369007],\n       [ 1.        ,  0.        ,  0.        , ...,  0.        ,\n         0.        , -1.08317758],\n       ...,\n       [ 0.        ,  0.        ,  1.        , ...,  0.        ,\n         0.        ,  0.37209281],\n       [ 1.        ,  0.        ,  0.        , ...,  0.        ,\n         0.        , -0.93076119],\n       [ 1.        ,  0.        ,  0.        , ...,  0.        ,\n         0.        , -1.15184176]])"
     },
     "execution_count": 41,
     "metadata": {},
     "output_type": "execute_result"
    }
   ],
   "source": [
    "transformed_data"
   ],
   "metadata": {
    "collapsed": false,
    "ExecuteTime": {
     "end_time": "2024-04-23T10:52:22.563823Z",
     "start_time": "2024-04-23T10:52:22.559758Z"
    }
   },
   "id": "7746330ddb46602f",
   "execution_count": 41
  },
  {
   "cell_type": "code",
   "outputs": [],
   "source": [],
   "metadata": {
    "collapsed": false
   },
   "id": "47e62145ac01ac52"
  }
 ],
 "metadata": {
  "kernelspec": {
   "display_name": "Python 3",
   "language": "python",
   "name": "python3"
  },
  "language_info": {
   "codemirror_mode": {
    "name": "ipython",
    "version": 2
   },
   "file_extension": ".py",
   "mimetype": "text/x-python",
   "name": "python",
   "nbconvert_exporter": "python",
   "pygments_lexer": "ipython2",
   "version": "2.7.6"
  }
 },
 "nbformat": 4,
 "nbformat_minor": 5
}
